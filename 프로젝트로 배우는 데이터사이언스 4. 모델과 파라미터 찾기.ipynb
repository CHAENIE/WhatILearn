{
 "cells": [
  {
   "cell_type": "markdown",
   "id": "guilty-track",
   "metadata": {},
   "source": [
    "# 프로젝트로 배우는 데이터 사이언스\n",
    "## 4. 모델과 파라미터 찾기\n",
    "## 4.1 최적의 모델과 파라미터 찾기"
   ]
  },
  {
   "cell_type": "markdown",
   "id": "canadian-vietnam",
   "metadata": {},
   "source": [
    "## 4.1.1 사이킷런을 통해 학습과 예측에 사용할 데이터셋 나누기\n",
    "이전에 전처리한 데이터셋(diabetes_feature.csv) 활용"
   ]
  },
  {
   "cell_type": "code",
   "execution_count": 1,
   "id": "baking-trinidad",
   "metadata": {},
   "outputs": [],
   "source": [
    "import pandas as pd\n",
    "import numpy as np\n",
    "import seaborn as sns\n",
    "import matplotlib.pyplot as plt\n",
    "\n",
    "%matplotlib inline"
   ]
  },
  {
   "cell_type": "code",
   "execution_count": 2,
   "id": "applicable-contents",
   "metadata": {},
   "outputs": [
    {
     "data": {
      "text/plain": [
       "(768, 16)"
      ]
     },
     "execution_count": 2,
     "metadata": {},
     "output_type": "execute_result"
    }
   ],
   "source": [
    "df=pd.read_csv('data/diabetes_feature.csv')\n",
    "df.shape"
   ]
  },
  {
   "cell_type": "code",
   "execution_count": 3,
   "id": "rotary-pencil",
   "metadata": {},
   "outputs": [
    {
     "data": {
      "text/html": [
       "<div>\n",
       "<style scoped>\n",
       "    .dataframe tbody tr th:only-of-type {\n",
       "        vertical-align: middle;\n",
       "    }\n",
       "\n",
       "    .dataframe tbody tr th {\n",
       "        vertical-align: top;\n",
       "    }\n",
       "\n",
       "    .dataframe thead th {\n",
       "        text-align: right;\n",
       "    }\n",
       "</style>\n",
       "<table border=\"1\" class=\"dataframe\">\n",
       "  <thead>\n",
       "    <tr style=\"text-align: right;\">\n",
       "      <th></th>\n",
       "      <th>Pregnancies</th>\n",
       "      <th>Glucose</th>\n",
       "      <th>BloodPressure</th>\n",
       "      <th>SkinThickness</th>\n",
       "      <th>Insulin</th>\n",
       "      <th>BMI</th>\n",
       "      <th>DiabetesPedigreeFunction</th>\n",
       "      <th>Age</th>\n",
       "      <th>Outcome</th>\n",
       "      <th>Pregnancies_high</th>\n",
       "      <th>Age_low</th>\n",
       "      <th>Age_middle</th>\n",
       "      <th>Age_high</th>\n",
       "      <th>Insulin_nan</th>\n",
       "      <th>Insulin_log</th>\n",
       "      <th>low_glu_insulin</th>\n",
       "    </tr>\n",
       "  </thead>\n",
       "  <tbody>\n",
       "    <tr>\n",
       "      <th>0</th>\n",
       "      <td>6</td>\n",
       "      <td>148</td>\n",
       "      <td>72</td>\n",
       "      <td>35</td>\n",
       "      <td>0</td>\n",
       "      <td>33.6</td>\n",
       "      <td>0.627</td>\n",
       "      <td>50</td>\n",
       "      <td>1</td>\n",
       "      <td>False</td>\n",
       "      <td>False</td>\n",
       "      <td>True</td>\n",
       "      <td>False</td>\n",
       "      <td>169.5</td>\n",
       "      <td>5.138735</td>\n",
       "      <td>False</td>\n",
       "    </tr>\n",
       "    <tr>\n",
       "      <th>1</th>\n",
       "      <td>1</td>\n",
       "      <td>85</td>\n",
       "      <td>66</td>\n",
       "      <td>29</td>\n",
       "      <td>0</td>\n",
       "      <td>26.6</td>\n",
       "      <td>0.351</td>\n",
       "      <td>31</td>\n",
       "      <td>0</td>\n",
       "      <td>False</td>\n",
       "      <td>False</td>\n",
       "      <td>True</td>\n",
       "      <td>False</td>\n",
       "      <td>102.5</td>\n",
       "      <td>4.639572</td>\n",
       "      <td>True</td>\n",
       "    </tr>\n",
       "    <tr>\n",
       "      <th>2</th>\n",
       "      <td>8</td>\n",
       "      <td>183</td>\n",
       "      <td>64</td>\n",
       "      <td>0</td>\n",
       "      <td>0</td>\n",
       "      <td>23.3</td>\n",
       "      <td>0.672</td>\n",
       "      <td>32</td>\n",
       "      <td>1</td>\n",
       "      <td>True</td>\n",
       "      <td>False</td>\n",
       "      <td>True</td>\n",
       "      <td>False</td>\n",
       "      <td>169.5</td>\n",
       "      <td>5.138735</td>\n",
       "      <td>False</td>\n",
       "    </tr>\n",
       "    <tr>\n",
       "      <th>3</th>\n",
       "      <td>1</td>\n",
       "      <td>89</td>\n",
       "      <td>66</td>\n",
       "      <td>23</td>\n",
       "      <td>94</td>\n",
       "      <td>28.1</td>\n",
       "      <td>0.167</td>\n",
       "      <td>21</td>\n",
       "      <td>0</td>\n",
       "      <td>False</td>\n",
       "      <td>True</td>\n",
       "      <td>False</td>\n",
       "      <td>False</td>\n",
       "      <td>94.0</td>\n",
       "      <td>4.553877</td>\n",
       "      <td>True</td>\n",
       "    </tr>\n",
       "    <tr>\n",
       "      <th>4</th>\n",
       "      <td>0</td>\n",
       "      <td>137</td>\n",
       "      <td>40</td>\n",
       "      <td>35</td>\n",
       "      <td>168</td>\n",
       "      <td>43.1</td>\n",
       "      <td>2.288</td>\n",
       "      <td>33</td>\n",
       "      <td>1</td>\n",
       "      <td>False</td>\n",
       "      <td>False</td>\n",
       "      <td>True</td>\n",
       "      <td>False</td>\n",
       "      <td>168.0</td>\n",
       "      <td>5.129899</td>\n",
       "      <td>False</td>\n",
       "    </tr>\n",
       "  </tbody>\n",
       "</table>\n",
       "</div>"
      ],
      "text/plain": [
       "   Pregnancies  Glucose  BloodPressure  SkinThickness  Insulin   BMI  \\\n",
       "0            6      148             72             35        0  33.6   \n",
       "1            1       85             66             29        0  26.6   \n",
       "2            8      183             64              0        0  23.3   \n",
       "3            1       89             66             23       94  28.1   \n",
       "4            0      137             40             35      168  43.1   \n",
       "\n",
       "   DiabetesPedigreeFunction  Age  Outcome  Pregnancies_high  Age_low  \\\n",
       "0                     0.627   50        1             False    False   \n",
       "1                     0.351   31        0             False    False   \n",
       "2                     0.672   32        1              True    False   \n",
       "3                     0.167   21        0             False     True   \n",
       "4                     2.288   33        1             False    False   \n",
       "\n",
       "   Age_middle  Age_high  Insulin_nan  Insulin_log  low_glu_insulin  \n",
       "0        True     False        169.5     5.138735            False  \n",
       "1        True     False        102.5     4.639572             True  \n",
       "2        True     False        169.5     5.138735            False  \n",
       "3       False     False         94.0     4.553877             True  \n",
       "4        True     False        168.0     5.129899            False  "
      ]
     },
     "execution_count": 3,
     "metadata": {},
     "output_type": "execute_result"
    }
   ],
   "source": [
    "df.head()"
   ]
  },
  {
   "cell_type": "markdown",
   "id": "fossil-little",
   "metadata": {},
   "source": [
    "### 학습과 예측에 사용할 데이터셋 만들기"
   ]
  },
  {
   "cell_type": "code",
   "execution_count": 5,
   "id": "separated-pasta",
   "metadata": {},
   "outputs": [
    {
     "data": {
      "text/plain": [
       "Index(['Pregnancies', 'Glucose', 'BloodPressure', 'SkinThickness', 'Insulin',\n",
       "       'BMI', 'DiabetesPedigreeFunction', 'Age', 'Outcome', 'Pregnancies_high',\n",
       "       'Age_low', 'Age_middle', 'Age_high', 'Insulin_nan', 'Insulin_log',\n",
       "       'low_glu_insulin'],\n",
       "      dtype='object')"
      ]
     },
     "execution_count": 5,
     "metadata": {},
     "output_type": "execute_result"
    }
   ],
   "source": [
    "df.columns"
   ]
  },
  {
   "cell_type": "code",
   "execution_count": 16,
   "id": "popular-springer",
   "metadata": {},
   "outputs": [],
   "source": [
    "# Pregnancies 아닌 Pregnancies_high 값 사용, 불필요 feature 제거\n",
    "X=df[['Glucose', 'BloodPressure', 'SkinThickness',\n",
    "       'BMI', 'DiabetesPedigreeFunction', 'Age','Pregnancies_high',\n",
    "       'Insulin_nan']]"
   ]
  },
  {
   "cell_type": "code",
   "execution_count": 17,
   "id": "suited-experiment",
   "metadata": {},
   "outputs": [
    {
     "data": {
      "text/plain": [
       "(768,)"
      ]
     },
     "execution_count": 17,
     "metadata": {},
     "output_type": "execute_result"
    }
   ],
   "source": [
    "y=df['Outcome']\n",
    "y.shape"
   ]
  },
  {
   "cell_type": "code",
   "execution_count": 18,
   "id": "white-invitation",
   "metadata": {},
   "outputs": [],
   "source": [
    "# 테스트셋을 test_size 옵션으로 20% 지정\n",
    "# 매번 샘플링마다 데이터 변화 방지 위해 random_state=42 로 같은 것을 사용\n",
    "from sklearn.model_selection import train_test_split\n",
    "X_train, X_test, y_train, y_test=train_test_split(\n",
    "X, y, test_size=0.2, random_state=42)"
   ]
  },
  {
   "cell_type": "code",
   "execution_count": 19,
   "id": "behind-paper",
   "metadata": {},
   "outputs": [
    {
     "data": {
      "text/html": [
       "<div>\n",
       "<style scoped>\n",
       "    .dataframe tbody tr th:only-of-type {\n",
       "        vertical-align: middle;\n",
       "    }\n",
       "\n",
       "    .dataframe tbody tr th {\n",
       "        vertical-align: top;\n",
       "    }\n",
       "\n",
       "    .dataframe thead th {\n",
       "        text-align: right;\n",
       "    }\n",
       "</style>\n",
       "<table border=\"1\" class=\"dataframe\">\n",
       "  <thead>\n",
       "    <tr style=\"text-align: right;\">\n",
       "      <th></th>\n",
       "      <th>Glucose</th>\n",
       "      <th>BloodPressure</th>\n",
       "      <th>SkinThickness</th>\n",
       "      <th>BMI</th>\n",
       "      <th>DiabetesPedigreeFunction</th>\n",
       "      <th>Age</th>\n",
       "      <th>Pregnancies_high</th>\n",
       "      <th>Insulin_nan</th>\n",
       "    </tr>\n",
       "  </thead>\n",
       "  <tbody>\n",
       "    <tr>\n",
       "      <th>60</th>\n",
       "      <td>84</td>\n",
       "      <td>0</td>\n",
       "      <td>0</td>\n",
       "      <td>0.0</td>\n",
       "      <td>0.304</td>\n",
       "      <td>21</td>\n",
       "      <td>False</td>\n",
       "      <td>102.5</td>\n",
       "    </tr>\n",
       "    <tr>\n",
       "      <th>618</th>\n",
       "      <td>112</td>\n",
       "      <td>82</td>\n",
       "      <td>24</td>\n",
       "      <td>28.2</td>\n",
       "      <td>1.282</td>\n",
       "      <td>50</td>\n",
       "      <td>True</td>\n",
       "      <td>169.5</td>\n",
       "    </tr>\n",
       "    <tr>\n",
       "      <th>346</th>\n",
       "      <td>139</td>\n",
       "      <td>46</td>\n",
       "      <td>19</td>\n",
       "      <td>28.7</td>\n",
       "      <td>0.654</td>\n",
       "      <td>22</td>\n",
       "      <td>False</td>\n",
       "      <td>83.0</td>\n",
       "    </tr>\n",
       "    <tr>\n",
       "      <th>294</th>\n",
       "      <td>161</td>\n",
       "      <td>50</td>\n",
       "      <td>0</td>\n",
       "      <td>21.9</td>\n",
       "      <td>0.254</td>\n",
       "      <td>65</td>\n",
       "      <td>False</td>\n",
       "      <td>102.5</td>\n",
       "    </tr>\n",
       "    <tr>\n",
       "      <th>231</th>\n",
       "      <td>134</td>\n",
       "      <td>80</td>\n",
       "      <td>37</td>\n",
       "      <td>46.2</td>\n",
       "      <td>0.238</td>\n",
       "      <td>46</td>\n",
       "      <td>False</td>\n",
       "      <td>370.0</td>\n",
       "    </tr>\n",
       "    <tr>\n",
       "      <th>...</th>\n",
       "      <td>...</td>\n",
       "      <td>...</td>\n",
       "      <td>...</td>\n",
       "      <td>...</td>\n",
       "      <td>...</td>\n",
       "      <td>...</td>\n",
       "      <td>...</td>\n",
       "      <td>...</td>\n",
       "    </tr>\n",
       "    <tr>\n",
       "      <th>71</th>\n",
       "      <td>139</td>\n",
       "      <td>64</td>\n",
       "      <td>35</td>\n",
       "      <td>28.6</td>\n",
       "      <td>0.411</td>\n",
       "      <td>26</td>\n",
       "      <td>False</td>\n",
       "      <td>140.0</td>\n",
       "    </tr>\n",
       "    <tr>\n",
       "      <th>106</th>\n",
       "      <td>96</td>\n",
       "      <td>122</td>\n",
       "      <td>0</td>\n",
       "      <td>22.4</td>\n",
       "      <td>0.207</td>\n",
       "      <td>27</td>\n",
       "      <td>False</td>\n",
       "      <td>102.5</td>\n",
       "    </tr>\n",
       "    <tr>\n",
       "      <th>270</th>\n",
       "      <td>101</td>\n",
       "      <td>86</td>\n",
       "      <td>37</td>\n",
       "      <td>45.6</td>\n",
       "      <td>1.136</td>\n",
       "      <td>38</td>\n",
       "      <td>True</td>\n",
       "      <td>169.5</td>\n",
       "    </tr>\n",
       "    <tr>\n",
       "      <th>435</th>\n",
       "      <td>141</td>\n",
       "      <td>0</td>\n",
       "      <td>0</td>\n",
       "      <td>42.4</td>\n",
       "      <td>0.205</td>\n",
       "      <td>29</td>\n",
       "      <td>False</td>\n",
       "      <td>169.5</td>\n",
       "    </tr>\n",
       "    <tr>\n",
       "      <th>102</th>\n",
       "      <td>125</td>\n",
       "      <td>96</td>\n",
       "      <td>0</td>\n",
       "      <td>22.5</td>\n",
       "      <td>0.262</td>\n",
       "      <td>21</td>\n",
       "      <td>False</td>\n",
       "      <td>102.5</td>\n",
       "    </tr>\n",
       "  </tbody>\n",
       "</table>\n",
       "<p>614 rows × 8 columns</p>\n",
       "</div>"
      ],
      "text/plain": [
       "     Glucose  BloodPressure  SkinThickness   BMI  DiabetesPedigreeFunction  \\\n",
       "60        84              0              0   0.0                     0.304   \n",
       "618      112             82             24  28.2                     1.282   \n",
       "346      139             46             19  28.7                     0.654   \n",
       "294      161             50              0  21.9                     0.254   \n",
       "231      134             80             37  46.2                     0.238   \n",
       "..       ...            ...            ...   ...                       ...   \n",
       "71       139             64             35  28.6                     0.411   \n",
       "106       96            122              0  22.4                     0.207   \n",
       "270      101             86             37  45.6                     1.136   \n",
       "435      141              0              0  42.4                     0.205   \n",
       "102      125             96              0  22.5                     0.262   \n",
       "\n",
       "     Age  Pregnancies_high  Insulin_nan  \n",
       "60    21             False        102.5  \n",
       "618   50              True        169.5  \n",
       "346   22             False         83.0  \n",
       "294   65             False        102.5  \n",
       "231   46             False        370.0  \n",
       "..   ...               ...          ...  \n",
       "71    26             False        140.0  \n",
       "106   27             False        102.5  \n",
       "270   38              True        169.5  \n",
       "435   29             False        169.5  \n",
       "102   21             False        102.5  \n",
       "\n",
       "[614 rows x 8 columns]"
      ]
     },
     "execution_count": 19,
     "metadata": {},
     "output_type": "execute_result"
    }
   ],
   "source": [
    "X_train"
   ]
  },
  {
   "cell_type": "code",
   "execution_count": 20,
   "id": "polish-brief",
   "metadata": {},
   "outputs": [
    {
     "data": {
      "text/plain": [
       "((614, 8), (614,))"
      ]
     },
     "execution_count": 20,
     "metadata": {},
     "output_type": "execute_result"
    }
   ],
   "source": [
    "# 학습세트의 문제, 정답 확인\n",
    "X_train.shape, y_train.shape"
   ]
  },
  {
   "cell_type": "code",
   "execution_count": 21,
   "id": "painful-scene",
   "metadata": {},
   "outputs": [
    {
     "data": {
      "text/plain": [
       "((154, 8), (154,))"
      ]
     },
     "execution_count": 21,
     "metadata": {},
     "output_type": "execute_result"
    }
   ],
   "source": [
    "# 예측세트의 문제, 정답 확인\n",
    "X_test.shape, y_test.shape"
   ]
  },
  {
   "cell_type": "markdown",
   "id": "collective-dimension",
   "metadata": {},
   "source": [
    "## 4.1.2 랜덤값을 고정하여 디시전트리로 학습과 예측하기"
   ]
  },
  {
   "cell_type": "markdown",
   "id": "turkish-absorption",
   "metadata": {},
   "source": [
    "### 학습과 예측하기"
   ]
  },
  {
   "cell_type": "code",
   "execution_count": 22,
   "id": "ahead-modeling",
   "metadata": {},
   "outputs": [
    {
     "data": {
      "text/plain": [
       "DecisionTreeClassifier(max_depth=11, random_state=42)"
      ]
     },
     "execution_count": 22,
     "metadata": {},
     "output_type": "execute_result"
    }
   ],
   "source": [
    "from sklearn.tree import DecisionTreeClassifier\n",
    "\n",
    "model=DecisionTreeClassifier(max_depth=11, random_state=42)\n",
    "model"
   ]
  },
  {
   "cell_type": "code",
   "execution_count": 23,
   "id": "intense-company",
   "metadata": {},
   "outputs": [
    {
     "data": {
      "text/plain": [
       "DecisionTreeClassifier(max_depth=11, random_state=42)"
      ]
     },
     "execution_count": 23,
     "metadata": {},
     "output_type": "execute_result"
    }
   ],
   "source": [
    "# 모델 학습\n",
    "model.fit(X_train, y_train)"
   ]
  },
  {
   "cell_type": "code",
   "execution_count": 24,
   "id": "intellectual-composition",
   "metadata": {},
   "outputs": [
    {
     "data": {
      "text/plain": [
       "array([1, 0, 0, 0, 0, 1, 1, 1, 1, 0, 1, 0, 0, 0, 0, 1, 0, 0, 1, 0, 0, 0,\n",
       "       0, 0, 1, 1, 0, 0, 0, 0, 1, 1, 1, 1, 1, 1, 1, 1, 0, 1, 0, 0, 0, 1,\n",
       "       0, 0, 0, 0, 0, 1, 0, 1, 1, 1, 0, 0, 0, 0, 0, 1, 1, 0, 1, 0, 0, 0,\n",
       "       0, 1, 0, 1, 0, 0, 0, 0, 0, 0, 0, 1, 0, 0, 1, 0, 0, 0, 0, 1, 1, 0,\n",
       "       0, 0, 0, 0, 0, 1, 1, 0, 0, 0, 1, 0, 1, 0, 1, 1, 1, 1, 1, 1, 0, 1,\n",
       "       0, 0, 0, 1, 0, 0, 1, 0, 0, 0, 0, 0, 1, 0, 0, 1, 1, 1, 1, 1, 1, 0,\n",
       "       0, 1, 1, 0, 1, 1, 0, 0, 0, 0, 0, 1, 0, 0, 1, 0, 0, 1, 0, 0, 0, 0],\n",
       "      dtype=int64)"
      ]
     },
     "execution_count": 24,
     "metadata": {},
     "output_type": "execute_result"
    }
   ],
   "source": [
    "# 예측 -> 결과를 y_predict에 담기\n",
    "# 0: 당뇨병 X, 1: 당뇨병O\n",
    "y_predict=model.predict(X_test)\n",
    "y_predict"
   ]
  },
  {
   "cell_type": "code",
   "execution_count": 28,
   "id": "included-albert",
   "metadata": {},
   "outputs": [
    {
     "data": {
      "text/plain": [
       "31"
      ]
     },
     "execution_count": 28,
     "metadata": {},
     "output_type": "execute_result"
    }
   ],
   "source": [
    "# 다르게 예측한 갯수 -> diff_count\n",
    "diff_count=abs(y_predict-y_test).sum()\n",
    "diff_count"
   ]
  },
  {
   "cell_type": "code",
   "execution_count": 29,
   "id": "suitable-excellence",
   "metadata": {},
   "outputs": [
    {
     "data": {
      "text/plain": [
       "79.87012987012987"
      ]
     },
     "execution_count": 29,
     "metadata": {},
     "output_type": "execute_result"
    }
   ],
   "source": [
    "# accuracy score -> 지난 모델(전처리X 데이터)에서는 오버피팅이 발생한 것 예상\n",
    "from sklearn.metrics import accuracy_score\n",
    "\n",
    "accuracy_score(y_test, y_predict)*100"
   ]
  },
  {
   "cell_type": "markdown",
   "id": "blond-pottery",
   "metadata": {},
   "source": [
    "## 4.1.3 최적의 max_depth 파라미터값 찾기\n",
    "max_depth 파라미터 값 튜닝"
   ]
  },
  {
   "cell_type": "code",
   "execution_count": 30,
   "id": "closing-jacob",
   "metadata": {},
   "outputs": [],
   "source": [
    "feature_names=X_train.columns.tolist()"
   ]
  },
  {
   "cell_type": "code",
   "execution_count": 31,
   "id": "apart-investing",
   "metadata": {},
   "outputs": [
    {
     "data": {
      "image/png": "[encoded data removed]",
      "text/plain": [
       "<Figure size 1080x1080 with 1 Axes>"
      ]
     },
     "metadata": {
      "needs_background": "light"
     },
     "output_type": "display_data"
    }
   ],
   "source": [
    "# plt.figure으로 사이즈를 지정, filled를 True로 설정하면 색상이 생김\n",
    "# Insulin이 가장 상위 조건으로 나뉘고, gini 계수가 0이면 tree 그리기를 멈춤\n",
    "# 샘플의 개수가 밑으로 갈수록 줄어듦\n",
    "# max_depth: 트리의 깊이 (가지가 몇층까지 내려가는지)\n",
    "from sklearn.tree import plot_tree\n",
    "\n",
    "plt.figure(figsize=(15,15))\n",
    "tree=plot_tree(model, feature_names=feature_names, fontsize=10, filled=True)"
   ]
  },
  {
   "cell_type": "code",
   "execution_count": 32,
   "id": "about-rebecca",
   "metadata": {},
   "outputs": [
    {
     "data": {
      "text/plain": [
       "DecisionTreeClassifier(max_depth=11, random_state=42)"
      ]
     },
     "execution_count": 32,
     "metadata": {},
     "output_type": "execute_result"
    }
   ],
   "source": [
    "# max_depth 값 조정 -> 성능 UP but, 너무 tree깊이 얕으면 언더피팅 발생\n",
    "from sklearn.tree import DecisionTreeClassifier\n",
    "model=DecisionTreeClassifier(max_depth=11, random_state=42)\n",
    "model"
   ]
  },
  {
   "cell_type": "markdown",
   "id": "representative-rubber",
   "metadata": {},
   "source": [
    "### 최적의 max_depth 값 찾기"
   ]
  },
  {
   "cell_type": "code",
   "execution_count": 34,
   "id": "crucial-rugby",
   "metadata": {},
   "outputs": [
    {
     "name": "stdout",
     "output_type": "stream",
     "text": [
      "3 85.06493506493507\n",
      "4 87.66233766233766\n",
      "5 85.71428571428571\n",
      "6 81.16883116883116\n",
      "7 81.81818181818183\n",
      "8 80.51948051948052\n",
      "9 83.76623376623377\n",
      "10 80.51948051948052\n",
      "11 79.87012987012987\n"
     ]
    }
   ],
   "source": [
    "# for문 안에 모델을 넣어 max_depth 파라미터 바꿔가면서 모델 학습\n",
    "# max_depth = 4 일때 성능 가장 높음(87.66) \n",
    "# 다른 파라미터 변경해도 성능 향상 가능\n",
    "from sklearn.metrics import accuracy_score\n",
    "\n",
    "for max_depth in range(3,12):\n",
    "    model=DecisionTreeClassifier(max_depth=max_depth, random_state=42)\n",
    "    y_predict=model.fit(X_train, y_train).predict(X_test)\n",
    "    score=accuracy_score(y_test, y_predict)*100\n",
    "    print(max_depth, score)"
   ]
  },
  {
   "cell_type": "markdown",
   "id": "ranging-championship",
   "metadata": {},
   "source": [
    "## 4.1.4 GridSearchCV 를 사용해서 최적의 하이퍼 파라미터 값 찾기"
   ]
  },
  {
   "cell_type": "markdown",
   "id": "endangered-hello",
   "metadata": {},
   "source": [
    "### Grid Search\n",
    "![GridSearchCV?](data/GridSearchCV.png)\n",
    "<br> cross validation 은 train 데이터셋을 여러 fold 로 나눠서 평균내는 방법"
   ]
  },
  {
   "cell_type": "markdown",
   "id": "diverse-familiar",
   "metadata": {},
   "source": [
    "#### GridSearchCV 옵션\n",
    "* param_grid: 튜닝하고 싶은 파라미터 정보를 넣기<br>\n",
    "* max_features: 일부 feature만 사용하고 싶을 때, 1은 전체라는 뜻<br>\n",
    "* n_jobs: -1로 설정하여 사용 가능한 모든 장비를 학습에 이용<br>\n",
    "* cv: cross validation을 5개로 나눔(5가 기본)<br>\n",
    "* verbose: 1로 하여 로그를 찍으면서 학습. 0이면 로그를 출력하지 않음(1~3 점점 자세히)<br>"
   ]
  },
  {
   "cell_type": "code",
   "execution_count": 36,
   "id": "adopted-joint",
   "metadata": {},
   "outputs": [
    {
     "name": "stdout",
     "output_type": "stream",
     "text": [
      "Fitting 5 folds for each of 45 candidates, totalling 225 fits\n"
     ]
    },
    {
     "data": {
      "text/plain": [
       "GridSearchCV(cv=5, estimator=DecisionTreeClassifier(random_state=42), n_jobs=-1,\n",
       "             param_grid={'max_depth': range(3, 12),\n",
       "                         'max_features': [0.3, 0.5, 0.7, 0.9, 1]},\n",
       "             verbose=1)"
      ]
     },
     "execution_count": 36,
     "metadata": {},
     "output_type": "execute_result"
    }
   ],
   "source": [
    "from sklearn.model_selection import GridSearchCV\n",
    "\n",
    "model=DecisionTreeClassifier(random_state=42)\n",
    "param_grid={'max_depth':range(3,12),\n",
    "           'max_features':[0.3, 0.5, 0.7, 0.9, 1]}\n",
    "clf=GridSearchCV(model, param_grid=param_grid, n_jobs=-1, cv=5, verbose=1)\n",
    "clf.fit(X_train, y_train)"
   ]
  },
  {
   "cell_type": "code",
   "execution_count": 39,
   "id": "favorite-anthony",
   "metadata": {},
   "outputs": [
    {
     "data": {
      "text/plain": [
       "{'max_depth': 4, 'max_features': 0.7}"
      ]
     },
     "execution_count": 39,
     "metadata": {},
     "output_type": "execute_result"
    }
   ],
   "source": [
    "# 가장 성능 좋은 파라미터 찾기\n",
    "clf.best_params_"
   ]
  },
  {
   "cell_type": "code",
   "execution_count": 42,
   "id": "outstanding-poultry",
   "metadata": {},
   "outputs": [
    {
     "data": {
      "text/plain": [
       "DecisionTreeClassifier(max_depth=4, max_features=0.7, random_state=42)"
      ]
     },
     "execution_count": 42,
     "metadata": {},
     "output_type": "execute_result"
    }
   ],
   "source": [
    "# 가장 좋은 성능 내는 파라미터 조합 전체\n",
    "clf.best_estimator_"
   ]
  },
  {
   "cell_type": "code",
   "execution_count": 44,
   "id": "liked-vector",
   "metadata": {},
   "outputs": [
    {
     "data": {
      "text/plain": [
       "0.8779288284686124"
      ]
     },
     "execution_count": 44,
     "metadata": {},
     "output_type": "execute_result"
    }
   ],
   "source": [
    "# 가장 좋은 점수\n",
    "clf.best_score_"
   ]
  },
  {
   "cell_type": "code",
   "execution_count": 46,
   "id": "removed-qatar",
   "metadata": {},
   "outputs": [
    {
     "data": {
      "text/html": [
       "<div>\n",
       "<style scoped>\n",
       "    .dataframe tbody tr th:only-of-type {\n",
       "        vertical-align: middle;\n",
       "    }\n",
       "\n",
       "    .dataframe tbody tr th {\n",
       "        vertical-align: top;\n",
       "    }\n",
       "\n",
       "    .dataframe thead th {\n",
       "        text-align: right;\n",
       "    }\n",
       "</style>\n",
       "<table border=\"1\" class=\"dataframe\">\n",
       "  <thead>\n",
       "    <tr style=\"text-align: right;\">\n",
       "      <th></th>\n",
       "      <th>mean_fit_time</th>\n",
       "      <th>std_fit_time</th>\n",
       "      <th>mean_score_time</th>\n",
       "      <th>std_score_time</th>\n",
       "      <th>param_max_depth</th>\n",
       "      <th>param_max_features</th>\n",
       "      <th>params</th>\n",
       "      <th>split0_test_score</th>\n",
       "      <th>split1_test_score</th>\n",
       "      <th>split2_test_score</th>\n",
       "      <th>split3_test_score</th>\n",
       "      <th>split4_test_score</th>\n",
       "      <th>mean_test_score</th>\n",
       "      <th>std_test_score</th>\n",
       "      <th>rank_test_score</th>\n",
       "    </tr>\n",
       "  </thead>\n",
       "  <tbody>\n",
       "    <tr>\n",
       "      <th>7</th>\n",
       "      <td>0.007200</td>\n",
       "      <td>0.000980</td>\n",
       "      <td>0.004201</td>\n",
       "      <td>0.000749</td>\n",
       "      <td>4</td>\n",
       "      <td>0.7</td>\n",
       "      <td>{'max_depth': 4, 'max_features': 0.7}</td>\n",
       "      <td>0.813008</td>\n",
       "      <td>0.926829</td>\n",
       "      <td>0.853659</td>\n",
       "      <td>0.869919</td>\n",
       "      <td>0.926230</td>\n",
       "      <td>0.877929</td>\n",
       "      <td>0.043800</td>\n",
       "      <td>1</td>\n",
       "    </tr>\n",
       "    <tr>\n",
       "      <th>18</th>\n",
       "      <td>0.008401</td>\n",
       "      <td>0.000489</td>\n",
       "      <td>0.004401</td>\n",
       "      <td>0.000489</td>\n",
       "      <td>6</td>\n",
       "      <td>0.9</td>\n",
       "      <td>{'max_depth': 6, 'max_features': 0.9}</td>\n",
       "      <td>0.878049</td>\n",
       "      <td>0.886179</td>\n",
       "      <td>0.829268</td>\n",
       "      <td>0.878049</td>\n",
       "      <td>0.885246</td>\n",
       "      <td>0.871358</td>\n",
       "      <td>0.021324</td>\n",
       "      <td>2</td>\n",
       "    </tr>\n",
       "    <tr>\n",
       "      <th>17</th>\n",
       "      <td>0.007200</td>\n",
       "      <td>0.000749</td>\n",
       "      <td>0.003801</td>\n",
       "      <td>0.000748</td>\n",
       "      <td>6</td>\n",
       "      <td>0.7</td>\n",
       "      <td>{'max_depth': 6, 'max_features': 0.7}</td>\n",
       "      <td>0.878049</td>\n",
       "      <td>0.918699</td>\n",
       "      <td>0.804878</td>\n",
       "      <td>0.869919</td>\n",
       "      <td>0.868852</td>\n",
       "      <td>0.868079</td>\n",
       "      <td>0.036497</td>\n",
       "      <td>3</td>\n",
       "    </tr>\n",
       "    <tr>\n",
       "      <th>22</th>\n",
       "      <td>0.007199</td>\n",
       "      <td>0.000980</td>\n",
       "      <td>0.003801</td>\n",
       "      <td>0.000400</td>\n",
       "      <td>7</td>\n",
       "      <td>0.7</td>\n",
       "      <td>{'max_depth': 7, 'max_features': 0.7}</td>\n",
       "      <td>0.878049</td>\n",
       "      <td>0.926829</td>\n",
       "      <td>0.788618</td>\n",
       "      <td>0.845528</td>\n",
       "      <td>0.893443</td>\n",
       "      <td>0.866493</td>\n",
       "      <td>0.046913</td>\n",
       "      <td>4</td>\n",
       "    </tr>\n",
       "    <tr>\n",
       "      <th>41</th>\n",
       "      <td>0.008200</td>\n",
       "      <td>0.000748</td>\n",
       "      <td>0.003801</td>\n",
       "      <td>0.000750</td>\n",
       "      <td>11</td>\n",
       "      <td>0.5</td>\n",
       "      <td>{'max_depth': 11, 'max_features': 0.5}</td>\n",
       "      <td>0.821138</td>\n",
       "      <td>0.926829</td>\n",
       "      <td>0.804878</td>\n",
       "      <td>0.902439</td>\n",
       "      <td>0.860656</td>\n",
       "      <td>0.863188</td>\n",
       "      <td>0.046402</td>\n",
       "      <td>5</td>\n",
       "    </tr>\n",
       "  </tbody>\n",
       "</table>\n",
       "</div>"
      ],
      "text/plain": [
       "    mean_fit_time  std_fit_time  mean_score_time  std_score_time  \\\n",
       "7        0.007200      0.000980         0.004201        0.000749   \n",
       "18       0.008401      0.000489         0.004401        0.000489   \n",
       "17       0.007200      0.000749         0.003801        0.000748   \n",
       "22       0.007199      0.000980         0.003801        0.000400   \n",
       "41       0.008200      0.000748         0.003801        0.000750   \n",
       "\n",
       "   param_max_depth param_max_features                                  params  \\\n",
       "7                4                0.7   {'max_depth': 4, 'max_features': 0.7}   \n",
       "18               6                0.9   {'max_depth': 6, 'max_features': 0.9}   \n",
       "17               6                0.7   {'max_depth': 6, 'max_features': 0.7}   \n",
       "22               7                0.7   {'max_depth': 7, 'max_features': 0.7}   \n",
       "41              11                0.5  {'max_depth': 11, 'max_features': 0.5}   \n",
       "\n",
       "    split0_test_score  split1_test_score  split2_test_score  \\\n",
       "7            0.813008           0.926829           0.853659   \n",
       "18           0.878049           0.886179           0.829268   \n",
       "17           0.878049           0.918699           0.804878   \n",
       "22           0.878049           0.926829           0.788618   \n",
       "41           0.821138           0.926829           0.804878   \n",
       "\n",
       "    split3_test_score  split4_test_score  mean_test_score  std_test_score  \\\n",
       "7            0.869919           0.926230         0.877929        0.043800   \n",
       "18           0.878049           0.885246         0.871358        0.021324   \n",
       "17           0.869919           0.868852         0.868079        0.036497   \n",
       "22           0.845528           0.893443         0.866493        0.046913   \n",
       "41           0.902439           0.860656         0.863188        0.046402   \n",
       "\n",
       "    rank_test_score  \n",
       "7                 1  \n",
       "18                2  \n",
       "17                3  \n",
       "22                4  \n",
       "41                5  "
      ]
     },
     "execution_count": 46,
     "metadata": {},
     "output_type": "execute_result"
    }
   ],
   "source": [
    "# cv_results_: cross validation 결과를 데이터프레임으로 반환, \n",
    "# rank_test_score: score을 내림차순으로 확인\n",
    "pd.DataFrame(clf.cv_results_).sort_values(by='rank_test_score').head()"
   ]
  },
  {
   "cell_type": "code",
   "execution_count": 47,
   "id": "different-crash",
   "metadata": {},
   "outputs": [
    {
     "data": {
      "text/plain": [
       "array([1, 0, 0, 0, 0, 1, 0, 0, 1, 0, 1, 0, 1, 0, 0, 0, 0, 0, 1, 0, 0, 0,\n",
       "       0, 0, 1, 1, 0, 0, 0, 0, 1, 1, 1, 1, 0, 1, 1, 1, 0, 1, 0, 0, 0, 1,\n",
       "       0, 0, 1, 0, 0, 1, 0, 1, 1, 1, 0, 0, 0, 0, 0, 1, 1, 0, 1, 1, 0, 0,\n",
       "       0, 1, 0, 1, 1, 0, 0, 0, 0, 0, 0, 1, 0, 0, 1, 0, 0, 0, 0, 1, 1, 1,\n",
       "       0, 0, 0, 0, 0, 1, 0, 0, 0, 0, 1, 0, 0, 0, 1, 1, 1, 0, 0, 1, 0, 1,\n",
       "       0, 0, 0, 1, 0, 0, 0, 0, 0, 0, 0, 0, 1, 0, 0, 1, 1, 1, 1, 0, 1, 1,\n",
       "       0, 1, 1, 0, 1, 1, 1, 0, 0, 0, 0, 0, 0, 0, 1, 0, 0, 1, 0, 0, 1, 0],\n",
       "      dtype=int64)"
      ]
     },
     "execution_count": 47,
     "metadata": {},
     "output_type": "execute_result"
    }
   ],
   "source": [
    "# 예측 -> 답안지 만들기\n",
    "clf.predict(X_test)"
   ]
  },
  {
   "cell_type": "code",
   "execution_count": 48,
   "id": "stock-phoenix",
   "metadata": {},
   "outputs": [
    {
     "data": {
      "text/plain": [
       "0.8831168831168831"
      ]
     },
     "execution_count": 48,
     "metadata": {},
     "output_type": "execute_result"
    }
   ],
   "source": [
    "# test셋에서 더 좋은 스코어 나왔음\n",
    "clf.score(X_test, y_test)"
   ]
  },
  {
   "cell_type": "markdown",
   "id": "appointed-friendly",
   "metadata": {},
   "source": [
    "## 4.1.5 RamdomSearchCV 를 사용해서 최적의 하이퍼 파라미터 값 찾기\n",
    "* Grid Search: 우리가 설정한 범위 안에서만 parameter을 탐색<br>\n",
    "* Random Search: 좋은 성능을 낼 수 있는 랜덤값을 탐색\n",
    "\n",
    " "
   ]
  },
  {
   "cell_type": "code",
   "execution_count": 49,
   "id": "active-advertising",
   "metadata": {},
   "outputs": [
    {
     "data": {
      "text/plain": [
       "{'max_depth': array([18, 12, 12,  8,  6, 14,  7, 16,  5,  6]),\n",
       " 'max_features': array([0.9714415 , 0.714381  , 0.81138665, 0.77477675, 0.92121843,\n",
       "        0.71179337, 0.80205374, 0.80238747, 0.7890323 , 0.82702593,\n",
       "        0.73698784, 0.74440243, 0.99241001, 0.7629385 , 0.78184384,\n",
       "        0.92862632, 0.80639425, 0.97301525, 0.87937064, 0.8795752 ,\n",
       "        0.96125746, 0.75488944, 0.7834282 , 0.85314531, 0.73005147,\n",
       "        0.95679384, 0.88000912, 0.78178984, 0.84258455, 0.88589333,\n",
       "        0.77344689, 0.73933659, 0.95609414, 0.71441664, 0.95669229,\n",
       "        0.93048973, 0.83482956, 0.93383556, 0.88100365, 0.81126251,\n",
       "        0.75112171, 0.81988725, 0.91505371, 0.81466649, 0.80784161,\n",
       "        0.86549627, 0.82280223, 0.88367324, 0.81031745, 0.98124916,\n",
       "        0.80192513, 0.72206912, 0.77591606, 0.76182054, 0.94656277,\n",
       "        0.71539525, 0.93450718, 0.84959292, 0.92580505, 0.94535544,\n",
       "        0.83794559, 0.72105948, 0.77866709, 0.71310574, 0.91414495,\n",
       "        0.98135551, 0.82922185, 0.84852829, 0.92687415, 0.99044818,\n",
       "        0.91318509, 0.9297594 , 0.92136898, 0.79833183, 0.7322504 ,\n",
       "        0.96875675, 0.92143477, 0.85858567, 0.82132594, 0.79873404,\n",
       "        0.92655618, 0.73045075, 0.92681485, 0.82866708, 0.81563943,\n",
       "        0.95522366, 0.96532317, 0.87768121, 0.77249543, 0.85630494,\n",
       "        0.97901488, 0.72026991, 0.97349557, 0.94686532, 0.85982385,\n",
       "        0.91879929, 0.80772945, 0.80941943, 0.90211863, 0.81949236]),\n",
       " 'min_samples_split': [2, 3, 4, 5, 6]}"
      ]
     },
     "execution_count": 49,
     "metadata": {},
     "output_type": "execute_result"
    }
   ],
   "source": [
    "# parameter 를 범위 안에 랜덤한 숫자로 정의\n",
    "max_depth=np.random.randint(3,20,10) # 3부터 20 사이 10개 랜덤 pick\n",
    "max_depth\n",
    "\n",
    "max_features=np.random.uniform(0.7, 1.0, 100) # 0.7 부터 1.0 사이 100개 랜덤 pick\n",
    "\n",
    "param_distributions={'max_depth':max_depth,\n",
    "                    'max_features': max_features,\n",
    "                    'min_samples_split':list(range(2,7))}\n",
    "param_distributions"
   ]
  },
  {
   "cell_type": "markdown",
   "id": "registered-elder",
   "metadata": {},
   "source": [
    "* n_iter: 샘플링한 하이퍼파라미터 조합의 횟수(훈련할 후보 모델의 개수)를 지정"
   ]
  },
  {
   "cell_type": "code",
   "execution_count": 51,
   "id": "respiratory-benefit",
   "metadata": {},
   "outputs": [
    {
     "data": {
      "text/plain": [
       "RandomizedSearchCV(cv=5, estimator=DecisionTreeClassifier(random_state=42),\n",
       "                   n_iter=1000, n_jobs=-1,\n",
       "                   param_distributions={'max_depth': array([18, 12, 12,  8,  6, 14,  7, 16,  5,  6]),\n",
       "                                        'max_features': array([0.9714415 , 0.714381  , 0.81138665, 0.77477675, 0.92121843,\n",
       "       0.71179337, 0.80205374, 0.80238747, 0.7890323 , 0.82702593,\n",
       "       0.73698784, 0.74440243, 0.99241001, 0.7629385 , 0.78184384,\n",
       "       0.928...\n",
       "       0.91318509, 0.9297594 , 0.92136898, 0.79833183, 0.7322504 ,\n",
       "       0.96875675, 0.92143477, 0.85858567, 0.82132594, 0.79873404,\n",
       "       0.92655618, 0.73045075, 0.92681485, 0.82866708, 0.81563943,\n",
       "       0.95522366, 0.96532317, 0.87768121, 0.77249543, 0.85630494,\n",
       "       0.97901488, 0.72026991, 0.97349557, 0.94686532, 0.85982385,\n",
       "       0.91879929, 0.80772945, 0.80941943, 0.90211863, 0.81949236]),\n",
       "                                        'min_samples_split': [2, 3, 4, 5, 6]},\n",
       "                   random_state=42, scoring='accuracy')"
      ]
     },
     "execution_count": 51,
     "metadata": {},
     "output_type": "execute_result"
    }
   ],
   "source": [
    "# 가장 좋은 파라미터 찾기\n",
    "from sklearn.model_selection import RandomizedSearchCV\n",
    "\n",
    "clf=RandomizedSearchCV(model,\n",
    "                      param_distributions,\n",
    "                      n_iter=1000,\n",
    "                      scoring='accuracy',\n",
    "                      n_jobs=-1,\n",
    "                      cv=5,\n",
    "                      random_state=42)\n",
    "clf.fit(X_train, y_train)"
   ]
  },
  {
   "cell_type": "code",
   "execution_count": 52,
   "id": "better-empire",
   "metadata": {},
   "outputs": [
    {
     "data": {
      "text/plain": [
       "{'min_samples_split': 2, 'max_features': 0.9345071752277465, 'max_depth': 6}"
      ]
     },
     "execution_count": 52,
     "metadata": {},
     "output_type": "execute_result"
    }
   ],
   "source": [
    "# 가장 좋은 성능의 parameter 조합\n",
    "clf.best_params_"
   ]
  },
  {
   "cell_type": "code",
   "execution_count": 53,
   "id": "standard-gross",
   "metadata": {},
   "outputs": [
    {
     "data": {
      "text/plain": [
       "0.8713581234172997"
      ]
     },
     "execution_count": 53,
     "metadata": {},
     "output_type": "execute_result"
    }
   ],
   "source": [
    "# 가장 좋은 점수\n",
    "clf.best_score_"
   ]
  },
  {
   "cell_type": "code",
   "execution_count": 54,
   "id": "fatty-cherry",
   "metadata": {},
   "outputs": [
    {
     "data": {
      "text/plain": [
       "0.8636363636363636"
      ]
     },
     "execution_count": 54,
     "metadata": {},
     "output_type": "execute_result"
    }
   ],
   "source": [
    "# GridSearchCV(88) > RandomizedSearchCV(86)\n",
    "clf.score(X_test, y_test)"
   ]
  },
  {
   "cell_type": "code",
   "execution_count": 55,
   "id": "enclosed-polish",
   "metadata": {},
   "outputs": [
    {
     "data": {
      "text/html": [
       "<div>\n",
       "<style scoped>\n",
       "    .dataframe tbody tr th:only-of-type {\n",
       "        vertical-align: middle;\n",
       "    }\n",
       "\n",
       "    .dataframe tbody tr th {\n",
       "        vertical-align: top;\n",
       "    }\n",
       "\n",
       "    .dataframe thead th {\n",
       "        text-align: right;\n",
       "    }\n",
       "</style>\n",
       "<table border=\"1\" class=\"dataframe\">\n",
       "  <thead>\n",
       "    <tr style=\"text-align: right;\">\n",
       "      <th></th>\n",
       "      <th>mean_fit_time</th>\n",
       "      <th>std_fit_time</th>\n",
       "      <th>mean_score_time</th>\n",
       "      <th>std_score_time</th>\n",
       "      <th>param_min_samples_split</th>\n",
       "      <th>param_max_features</th>\n",
       "      <th>param_max_depth</th>\n",
       "      <th>params</th>\n",
       "      <th>split0_test_score</th>\n",
       "      <th>split1_test_score</th>\n",
       "      <th>split2_test_score</th>\n",
       "      <th>split3_test_score</th>\n",
       "      <th>split4_test_score</th>\n",
       "      <th>mean_test_score</th>\n",
       "      <th>std_test_score</th>\n",
       "      <th>rank_test_score</th>\n",
       "    </tr>\n",
       "  </thead>\n",
       "  <tbody>\n",
       "    <tr>\n",
       "      <th>425</th>\n",
       "      <td>0.008200</td>\n",
       "      <td>0.000749</td>\n",
       "      <td>0.004202</td>\n",
       "      <td>0.000399</td>\n",
       "      <td>2</td>\n",
       "      <td>0.918799</td>\n",
       "      <td>6</td>\n",
       "      <td>{'min_samples_split': 2, 'max_features': 0.918...</td>\n",
       "      <td>0.878049</td>\n",
       "      <td>0.886179</td>\n",
       "      <td>0.829268</td>\n",
       "      <td>0.878049</td>\n",
       "      <td>0.885246</td>\n",
       "      <td>0.871358</td>\n",
       "      <td>0.021324</td>\n",
       "      <td>1</td>\n",
       "    </tr>\n",
       "    <tr>\n",
       "      <th>927</th>\n",
       "      <td>0.009820</td>\n",
       "      <td>0.002632</td>\n",
       "      <td>0.004799</td>\n",
       "      <td>0.001164</td>\n",
       "      <td>2</td>\n",
       "      <td>0.902119</td>\n",
       "      <td>6</td>\n",
       "      <td>{'min_samples_split': 2, 'max_features': 0.902...</td>\n",
       "      <td>0.878049</td>\n",
       "      <td>0.886179</td>\n",
       "      <td>0.829268</td>\n",
       "      <td>0.878049</td>\n",
       "      <td>0.885246</td>\n",
       "      <td>0.871358</td>\n",
       "      <td>0.021324</td>\n",
       "      <td>1</td>\n",
       "    </tr>\n",
       "    <tr>\n",
       "      <th>575</th>\n",
       "      <td>0.010802</td>\n",
       "      <td>0.004119</td>\n",
       "      <td>0.004400</td>\n",
       "      <td>0.000491</td>\n",
       "      <td>2</td>\n",
       "      <td>0.921435</td>\n",
       "      <td>6</td>\n",
       "      <td>{'min_samples_split': 2, 'max_features': 0.921...</td>\n",
       "      <td>0.878049</td>\n",
       "      <td>0.886179</td>\n",
       "      <td>0.829268</td>\n",
       "      <td>0.878049</td>\n",
       "      <td>0.885246</td>\n",
       "      <td>0.871358</td>\n",
       "      <td>0.021324</td>\n",
       "      <td>1</td>\n",
       "    </tr>\n",
       "    <tr>\n",
       "      <th>389</th>\n",
       "      <td>0.009000</td>\n",
       "      <td>0.000631</td>\n",
       "      <td>0.004601</td>\n",
       "      <td>0.001201</td>\n",
       "      <td>2</td>\n",
       "      <td>0.979015</td>\n",
       "      <td>6</td>\n",
       "      <td>{'min_samples_split': 2, 'max_features': 0.979...</td>\n",
       "      <td>0.878049</td>\n",
       "      <td>0.886179</td>\n",
       "      <td>0.829268</td>\n",
       "      <td>0.878049</td>\n",
       "      <td>0.885246</td>\n",
       "      <td>0.871358</td>\n",
       "      <td>0.021324</td>\n",
       "      <td>1</td>\n",
       "    </tr>\n",
       "    <tr>\n",
       "      <th>233</th>\n",
       "      <td>0.010599</td>\n",
       "      <td>0.003775</td>\n",
       "      <td>0.003401</td>\n",
       "      <td>0.000490</td>\n",
       "      <td>2</td>\n",
       "      <td>0.921218</td>\n",
       "      <td>6</td>\n",
       "      <td>{'min_samples_split': 2, 'max_features': 0.921...</td>\n",
       "      <td>0.878049</td>\n",
       "      <td>0.886179</td>\n",
       "      <td>0.829268</td>\n",
       "      <td>0.878049</td>\n",
       "      <td>0.885246</td>\n",
       "      <td>0.871358</td>\n",
       "      <td>0.021324</td>\n",
       "      <td>1</td>\n",
       "    </tr>\n",
       "  </tbody>\n",
       "</table>\n",
       "</div>"
      ],
      "text/plain": [
       "     mean_fit_time  std_fit_time  mean_score_time  std_score_time  \\\n",
       "425       0.008200      0.000749         0.004202        0.000399   \n",
       "927       0.009820      0.002632         0.004799        0.001164   \n",
       "575       0.010802      0.004119         0.004400        0.000491   \n",
       "389       0.009000      0.000631         0.004601        0.001201   \n",
       "233       0.010599      0.003775         0.003401        0.000490   \n",
       "\n",
       "    param_min_samples_split param_max_features param_max_depth  \\\n",
       "425                       2           0.918799               6   \n",
       "927                       2           0.902119               6   \n",
       "575                       2           0.921435               6   \n",
       "389                       2           0.979015               6   \n",
       "233                       2           0.921218               6   \n",
       "\n",
       "                                                params  split0_test_score  \\\n",
       "425  {'min_samples_split': 2, 'max_features': 0.918...           0.878049   \n",
       "927  {'min_samples_split': 2, 'max_features': 0.902...           0.878049   \n",
       "575  {'min_samples_split': 2, 'max_features': 0.921...           0.878049   \n",
       "389  {'min_samples_split': 2, 'max_features': 0.979...           0.878049   \n",
       "233  {'min_samples_split': 2, 'max_features': 0.921...           0.878049   \n",
       "\n",
       "     split1_test_score  split2_test_score  split3_test_score  \\\n",
       "425           0.886179           0.829268           0.878049   \n",
       "927           0.886179           0.829268           0.878049   \n",
       "575           0.886179           0.829268           0.878049   \n",
       "389           0.886179           0.829268           0.878049   \n",
       "233           0.886179           0.829268           0.878049   \n",
       "\n",
       "     split4_test_score  mean_test_score  std_test_score  rank_test_score  \n",
       "425           0.885246         0.871358        0.021324                1  \n",
       "927           0.885246         0.871358        0.021324                1  \n",
       "575           0.885246         0.871358        0.021324                1  \n",
       "389           0.885246         0.871358        0.021324                1  \n",
       "233           0.885246         0.871358        0.021324                1  "
      ]
     },
     "execution_count": 55,
     "metadata": {},
     "output_type": "execute_result"
    }
   ],
   "source": [
    "# 좋은 스코어 찾기 위해 범위 조정하는 과정 중요\n",
    "# Grid Search보다 더 많은 값 랜덤하게 학습 가능\n",
    "pd.DataFrame(clf.cv_results_).sort_values(by='rank_test_score').head()"
   ]
  },
  {
   "cell_type": "markdown",
   "id": "boring-notion",
   "metadata": {},
   "source": [
    "## 4.2 다양한 트리계열 머신러닝 모델 사용하기\n",
    "## 4.2.1 랜덤포레스트 사용하기\n",
    "트리를 앙상블 기법(여러 기법을 섞어서 사용하는 기법)에 사용 가능<br>\n",
    "Random Forest는 샘플링하여 여러 데이터를 만들며, 이 샘플은 배깅('부트스트랩')<br>\n",
    "이를 통해 오버피팅을 방지\n",
    "\n"
   ]
  },
  {
   "cell_type": "code",
   "execution_count": 56,
   "id": "ongoing-estonia",
   "metadata": {},
   "outputs": [
    {
     "data": {
      "text/plain": [
       "DecisionTreeClassifier(random_state=42)"
      ]
     },
     "execution_count": 56,
     "metadata": {},
     "output_type": "execute_result"
    }
   ],
   "source": [
    "# 결정트리로 모델 만들기\n",
    "from sklearn.tree import DecisionTreeClassifier\n",
    "\n",
    "model = DecisionTreeClassifier(random_state=42)\n",
    "model"
   ]
  },
  {
   "cell_type": "code",
   "execution_count": 57,
   "id": "disabled-condition",
   "metadata": {},
   "outputs": [
    {
     "data": {
      "text/plain": [
       "DecisionTreeClassifier(random_state=42)"
      ]
     },
     "execution_count": 57,
     "metadata": {},
     "output_type": "execute_result"
    }
   ],
   "source": [
    "# 학습\n",
    "model.fit(X_train, y_train)"
   ]
  },
  {
   "cell_type": "code",
   "execution_count": 59,
   "id": "common-parking",
   "metadata": {},
   "outputs": [
    {
     "data": {
      "text/plain": [
       "array([1, 0, 0, 0, 0], dtype=int64)"
      ]
     },
     "execution_count": 59,
     "metadata": {},
     "output_type": "execute_result"
    }
   ],
   "source": [
    "# 예측\n",
    "y_predict=model.predict(X_test)\n",
    "y_predict[:5]"
   ]
  },
  {
   "cell_type": "code",
   "execution_count": 65,
   "id": "adjacent-uniform",
   "metadata": {},
   "outputs": [
    {
     "data": {
      "text/plain": [
       "31"
      ]
     },
     "execution_count": 65,
     "metadata": {},
     "output_type": "execute_result"
    }
   ],
   "source": [
    "# 다르게 예측한 갯수를 구해서 diff_count 에 할당\n",
    "(y_predict != y_test).sum()"
   ]
  },
  {
   "cell_type": "code",
   "execution_count": 60,
   "id": "weekly-beads",
   "metadata": {},
   "outputs": [
    {
     "data": {
      "text/plain": [
       "0.7987012987012987"
      ]
     },
     "execution_count": 60,
     "metadata": {},
     "output_type": "execute_result"
    }
   ],
   "source": [
    "# 정확도 계산\n",
    "from sklearn.metrics import accuracy_score\n",
    "\n",
    "accuracy_score(y_test, y_predict)"
   ]
  },
  {
   "cell_type": "markdown",
   "id": "unsigned-cricket",
   "metadata": {},
   "source": [
    "### 랜덤 포레스트"
   ]
  },
  {
   "cell_type": "code",
   "execution_count": 66,
   "id": "functioning-carry",
   "metadata": {},
   "outputs": [
    {
     "data": {
      "text/plain": [
       "RandomForestClassifier(random_state=42)"
      ]
     },
     "execution_count": 66,
     "metadata": {},
     "output_type": "execute_result"
    }
   ],
   "source": [
    "from sklearn.ensemble import RandomForestClassifier\n",
    "\n",
    "model=RandomForestClassifier(random_state=42)\n",
    "model"
   ]
  },
  {
   "cell_type": "code",
   "execution_count": 67,
   "id": "configured-angel",
   "metadata": {},
   "outputs": [
    {
     "data": {
      "text/plain": [
       "RandomForestClassifier(random_state=42)"
      ]
     },
     "execution_count": 67,
     "metadata": {},
     "output_type": "execute_result"
    }
   ],
   "source": [
    "# 학습\n",
    "model.fit(X_train, y_train)"
   ]
  },
  {
   "cell_type": "code",
   "execution_count": 68,
   "id": "million-option",
   "metadata": {},
   "outputs": [
    {
     "data": {
      "text/plain": [
       "array([1, 0, 0, 0, 0], dtype=int64)"
      ]
     },
     "execution_count": 68,
     "metadata": {},
     "output_type": "execute_result"
    }
   ],
   "source": [
    "# 예측\n",
    "y_predict=model.predict(X_test)\n",
    "y_predict[:5]"
   ]
  },
  {
   "cell_type": "code",
   "execution_count": 69,
   "id": "arbitrary-operation",
   "metadata": {},
   "outputs": [
    {
     "data": {
      "text/plain": [
       "21"
      ]
     },
     "execution_count": 69,
     "metadata": {},
     "output_type": "execute_result"
    }
   ],
   "source": [
    "# diff_count : DecisionTree (31) -> RandomForest(21)로 감소\n",
    "(y_predict != y_test).sum()"
   ]
  },
  {
   "cell_type": "code",
   "execution_count": 70,
   "id": "raised-member",
   "metadata": {},
   "outputs": [
    {
     "data": {
      "text/plain": [
       "0.8636363636363636"
      ]
     },
     "execution_count": 70,
     "metadata": {},
     "output_type": "execute_result"
    }
   ],
   "source": [
    "# 정확도 계산: DecisionTree (79) -> RandomForest(86)로 상승\n",
    "from sklearn.metrics import accuracy_score\n",
    "\n",
    "accuracy_score(y_test, y_predict)"
   ]
  },
  {
   "cell_type": "code",
   "execution_count": 72,
   "id": "legal-broadway",
   "metadata": {},
   "outputs": [
    {
     "data": {
      "text/plain": [
       "array([0.17083288, 0.05779216, 0.07175888, 0.10433995, 0.07639253,\n",
       "       0.11756395, 0.01413512, 0.38718453])"
      ]
     },
     "execution_count": 72,
     "metadata": {},
     "output_type": "execute_result"
    }
   ],
   "source": [
    "# 랜덤 포레스트는 트리를 여러 개 만들기 때문에 시각화 어려움\n",
    "# feature 별 중요도 계산\n",
    "model.feature_importances_"
   ]
  },
  {
   "cell_type": "code",
   "execution_count": 73,
   "id": "toxic-dublin",
   "metadata": {},
   "outputs": [
    {
     "data": {
      "text/plain": [
       "<AxesSubplot:>"
      ]
     },
     "execution_count": 73,
     "metadata": {},
     "output_type": "execute_result"
    },
    {
     "data": {
      "image/png": "[encoded data removed]",
      "text/plain": [
       "<Figure size 432x288 with 1 Axes>"
      ]
     },
     "metadata": {
      "needs_background": "light"
     },
     "output_type": "display_data"
    }
   ],
   "source": [
    "# 그래프 시각화\n",
    "# 인슐린이 가장 중요 역할\n",
    "# 대부분의 트리 알고리즘에서 feature_importances_ 알 수 있음\n",
    "feature_names=X_train.columns.tolist()\n",
    "sns.barplot(x=model.feature_importances_, y=feature_names)"
   ]
  },
  {
   "cell_type": "code",
   "execution_count": 75,
   "id": "raising-lingerie",
   "metadata": {},
   "outputs": [
    {
     "data": {
      "text/plain": [
       "RandomForestClassifier(random_state=42)"
      ]
     },
     "execution_count": 75,
     "metadata": {},
     "output_type": "execute_result"
    }
   ],
   "source": [
    "# bagging\n",
    "from sklearn.ensemble import RandomForestClassifier\n",
    "model=RandomForestClassifier(n_estimators=100,random_state=42)\n",
    "model"
   ]
  },
  {
   "cell_type": "markdown",
   "id": "soviet-philosophy",
   "metadata": {},
   "source": [
    "## 4.2.2 그라디언트 부스팅 알고리즘 사용하기\n",
    "* single: 하나의 트리 사용\n",
    "* bagging: 트리 여러 개 사용\n",
    "* boosting: 트리에 가중치 부여<br>\n",
    "\n",
    "https://quantdare.com/what-is-the-difference-between-bagging-and-boosting/"
   ]
  },
  {
   "cell_type": "code",
   "execution_count": 79,
   "id": "electric-concern",
   "metadata": {},
   "outputs": [
    {
     "data": {
      "text/plain": [
       "GradientBoostingClassifier(random_state=42)"
      ]
     },
     "execution_count": 79,
     "metadata": {},
     "output_type": "execute_result"
    }
   ],
   "source": [
    "# max_depth 지정X <-> 10 비교: 지정X 이 더 성능 좋음\n",
    "from sklearn.ensemble import GradientBoostingClassifier\n",
    "\n",
    "model=GradientBoostingClassifier(random_state=42)\n",
    "model"
   ]
  },
  {
   "cell_type": "code",
   "execution_count": 80,
   "id": "prescribed-living",
   "metadata": {},
   "outputs": [
    {
     "data": {
      "text/plain": [
       "GradientBoostingClassifier(random_state=42)"
      ]
     },
     "execution_count": 80,
     "metadata": {},
     "output_type": "execute_result"
    }
   ],
   "source": [
    "# 학습\n",
    "model.fit(X_train, y_train)"
   ]
  },
  {
   "cell_type": "code",
   "execution_count": 81,
   "id": "inclusive-reduction",
   "metadata": {},
   "outputs": [
    {
     "data": {
      "text/plain": [
       "array([1, 0, 0, 0, 0], dtype=int64)"
      ]
     },
     "execution_count": 81,
     "metadata": {},
     "output_type": "execute_result"
    }
   ],
   "source": [
    "# 예측\n",
    "y_predict=model.predict(X_test)\n",
    "y_predict[:5]"
   ]
  },
  {
   "cell_type": "code",
   "execution_count": 82,
   "id": "polyphonic-evidence",
   "metadata": {},
   "outputs": [
    {
     "data": {
      "text/plain": [
       "24"
      ]
     },
     "execution_count": 82,
     "metadata": {},
     "output_type": "execute_result"
    }
   ],
   "source": [
    "# diff_count : DecisionTree (31) -> RandomForest(21) -> GradientBoosting(24)로 증가\n",
    "(y_predict != y_test).sum()"
   ]
  },
  {
   "cell_type": "code",
   "execution_count": 83,
   "id": "destroyed-metallic",
   "metadata": {
    "scrolled": true
   },
   "outputs": [
    {
     "data": {
      "text/plain": [
       "0.8441558441558441"
      ]
     },
     "execution_count": 83,
     "metadata": {},
     "output_type": "execute_result"
    }
   ],
   "source": [
    "# 정확도 계산: DecisionTree (79) -> RandomForest(86) -> radientBoosting(84)로 상승\n",
    "from sklearn.metrics import accuracy_score\n",
    "\n",
    "accuracy_score(y_test, y_predict)"
   ]
  },
  {
   "cell_type": "code",
   "execution_count": 84,
   "id": "diverse-abraham",
   "metadata": {},
   "outputs": [
    {
     "data": {
      "text/plain": [
       "array([1.06268466e-01, 6.83835703e-03, 6.70947014e-02, 3.66742496e-02,\n",
       "       2.62879477e-02, 9.45686986e-02, 1.56708089e-04, 6.62110872e-01])"
      ]
     },
     "execution_count": 84,
     "metadata": {},
     "output_type": "execute_result"
    }
   ],
   "source": [
    "# feature 별 중요도 계산\n",
    "model.feature_importances_"
   ]
  },
  {
   "cell_type": "code",
   "execution_count": 85,
   "id": "conceptual-lemon",
   "metadata": {},
   "outputs": [
    {
     "data": {
      "text/plain": [
       "<AxesSubplot:>"
      ]
     },
     "execution_count": 85,
     "metadata": {},
     "output_type": "execute_result"
    },
    {
     "data": {
      "image/png": "[encoded data removed]",
      "text/plain": [
       "<Figure size 432x288 with 1 Axes>"
      ]
     },
     "metadata": {
      "needs_background": "light"
     },
     "output_type": "display_data"
    }
   ],
   "source": [
    "# 그래프 시각화\n",
    "# 인슐린이 가장 중요 역할\n",
    "# 대부분의 트리 알고리즘에서 feature_importances_ 알 수 있음\n",
    "feature_names=X_train.columns.tolist()\n",
    "sns.barplot(x=model.feature_importances_, y=feature_names)"
   ]
  },
  {
   "cell_type": "markdown",
   "id": "productive-entry",
   "metadata": {},
   "source": [
    "## 4.2.3 RamdomSearchCV 로 여러 알고리즘의 최적의 하이퍼 파라미터를 찾기(1)"
   ]
  },
  {
   "cell_type": "code",
   "execution_count": 88,
   "id": "announced-wells",
   "metadata": {},
   "outputs": [
    {
     "data": {
      "text/plain": [
       "DecisionTreeClassifier(random_state=42)"
      ]
     },
     "execution_count": 88,
     "metadata": {},
     "output_type": "execute_result"
    }
   ],
   "source": [
    "from sklearn.tree import DecisionTreeClassifier\n",
    "\n",
    "estimator=DecisionTreeClassifier(random_state=42)\n",
    "estimator"
   ]
  },
  {
   "cell_type": "code",
   "execution_count": 89,
   "id": "chubby-backup",
   "metadata": {},
   "outputs": [
    {
     "name": "stdout",
     "output_type": "stream",
     "text": [
      "Fitting 5 folds for each of 100 candidates, totalling 500 fits\n"
     ]
    },
    {
     "data": {
      "text/plain": [
       "RandomizedSearchCV(cv=5, estimator=DecisionTreeClassifier(random_state=42),\n",
       "                   n_iter=100, n_jobs=-1,\n",
       "                   param_distributions={'max_depth': array([14,  3,  5, 10,  4,  7, 14,  6, 10, 10]),\n",
       "                                        'max_features': array([0.9474195 , 0.84319422, 0.99647224, 0.3681136 , 0.41361108,\n",
       "       0.32535828, 0.45612417, 0.50197289, 0.75951155, 0.68489598])},\n",
       "                   scoring='accuracy', verbose=2)"
      ]
     },
     "execution_count": 89,
     "metadata": {},
     "output_type": "execute_result"
    }
   ],
   "source": [
    "# param_distributions: 랜덤 서치를 위한 변수들을 딕셔너리 형태로 넣기\n",
    "# n_iter: 기본 10번을 반복 학습\n",
    "# n_jobs: -1으로 지정하여 사용할 수 있는 자원을 모두 활용\n",
    "# cv: 5로 하여 조각을 5개로 나눔\n",
    "# verbose: 2로 지정하여 로그를 찍기\n",
    "\n",
    "from sklearn.model_selection import RandomizedSearchCV\n",
    "\n",
    "max_depth=np.random.randint(2,20,10)\n",
    "max_features=np.random.uniform(0.3, 1.0, 10) # 30% ~ 100% 사이 10개\n",
    "\n",
    "param_distributions={'max_depth':max_depth,\n",
    "                    'max_features':max_features}\n",
    "\n",
    "clf=RandomizedSearchCV(estimator,\n",
    "                      param_distributions,\n",
    "                      n_iter=100,\n",
    "                      scoring='accuracy',\n",
    "                      n_jobs=-1,\n",
    "                      cv=5,\n",
    "                      verbose=2)\n",
    "\n",
    "clf.fit(X_train, y_train)"
   ]
  },
  {
   "cell_type": "code",
   "execution_count": 91,
   "id": "acceptable-highway",
   "metadata": {},
   "outputs": [
    {
     "data": {
      "text/plain": [
       "{'max_features': 0.6848959816084904, 'max_depth': 4}"
      ]
     },
     "execution_count": 91,
     "metadata": {},
     "output_type": "execute_result"
    }
   ],
   "source": [
    "clf.best_params_"
   ]
  },
  {
   "cell_type": "code",
   "execution_count": 92,
   "id": "talented-assurance",
   "metadata": {},
   "outputs": [
    {
     "data": {
      "text/plain": [
       "0.8779288284686124"
      ]
     },
     "execution_count": 92,
     "metadata": {},
     "output_type": "execute_result"
    }
   ],
   "source": [
    "clf.best_score_"
   ]
  },
  {
   "cell_type": "code",
   "execution_count": 93,
   "id": "charged-bidding",
   "metadata": {},
   "outputs": [
    {
     "data": {
      "text/plain": [
       "[DecisionTreeClassifier(random_state=42),\n",
       " RandomForestClassifier(random_state=42),\n",
       " GradientBoostingClassifier(random_state=42)]"
      ]
     },
     "execution_count": 93,
     "metadata": {},
     "output_type": "execute_result"
    }
   ],
   "source": [
    "# 3개의 알고리즘을 모두 선언하여 사용\n",
    "from sklearn.tree import DecisionTreeClassifier\n",
    "from sklearn.ensemble import RandomForestClassifier, GradientBoostingClassifier\n",
    "\n",
    "estimators=[DecisionTreeClassifier(random_state=42),\n",
    "           RandomForestClassifier(random_state=42),\n",
    "           GradientBoostingClassifier(random_state=42)]\n",
    "estimators"
   ]
  },
  {
   "cell_type": "markdown",
   "id": "spare-fence",
   "metadata": {},
   "source": [
    "## 4.2.4 RamdomSearchCV 로 여러 알고리즘의 최적의 하이퍼 파라미터를 찾기(2) "
   ]
  },
  {
   "cell_type": "code",
   "execution_count": 94,
   "id": "middle-facial",
   "metadata": {},
   "outputs": [
    {
     "data": {
      "text/plain": [
       "[['DecisionTreeClassifier'],\n",
       " ['RandomForestClassifier'],\n",
       " ['GradientBoostingClassifier']]"
      ]
     },
     "execution_count": 94,
     "metadata": {},
     "output_type": "execute_result"
    }
   ],
   "source": [
    "# 3개의 모델을 for문으로 접근\n",
    "# results 리스트에 계속 모델 이름 담기\n",
    "results=[]\n",
    "for estimator in estimators:\n",
    "    result=[]\n",
    "    result.append(estimator.__class__.__name__)\n",
    "    results.append(result)\n",
    "results"
   ]
  },
  {
   "cell_type": "code",
   "execution_count": 96,
   "id": "treated-edinburgh",
   "metadata": {},
   "outputs": [
    {
     "name": "stdout",
     "output_type": "stream",
     "text": [
      "Fitting 5 folds for each of 10 candidates, totalling 50 fits\n",
      "Fitting 5 folds for each of 10 candidates, totalling 50 fits\n",
      "Fitting 5 folds for each of 10 candidates, totalling 50 fits\n"
     ]
    }
   ],
   "source": [
    "# clf 를 esimators 가 있는 for문 안으로 넣어 3개의 모델을 모두 번갈아 학습!\n",
    "# DecisionTree는 n_estimators라는 트리의 개수를 뜻하는 파라미터 사용 가능\n",
    "# n_estimators의 크기 클수록 모델 학습 시간 오래 걸림\n",
    "# 각 모델 중 가장 좋은 스코어를 result에 기록\n",
    "\n",
    "from sklearn.model_selection import RandomizedSearchCV\n",
    "\n",
    "max_depth = np.random.randint(2, 20, 10)\n",
    "max_features = np.random.uniform(0.3, 1.0, 10)\n",
    "\n",
    "param_distributions = {\"max_depth\": max_depth, \n",
    "                       \"max_features\": max_features}\n",
    "\n",
    "results=[]\n",
    "for estimator in estimators:\n",
    "    result=[]\n",
    "    if estimator.__class__.__name__ != 'DecisionTreeClassifier':\n",
    "        param_distributions['n_estimators']=np.random.randint(100,200,10)\n",
    "        \n",
    "    clf=RandomizedSearchCV(estimator,\n",
    "                          param_distributions,\n",
    "                          n_iter=10,\n",
    "                          scoring='accuracy',\n",
    "                          n_jobs=-1,\n",
    "                          cv=5,\n",
    "                          verbose=2)\n",
    "    \n",
    "    clf.fit(X_train, y_train)\n",
    "    result.append(estimator.__class__.__name__)\n",
    "    result.append(clf.best_params_)\n",
    "    result.append(clf.best_score_)\n",
    "    result.append(clf.score(X_test, y_test))\n",
    "    result.append(clf.cv_results_)\n",
    "    results.append(result)"
   ]
  },
  {
   "cell_type": "code",
   "execution_count": 97,
   "id": "different-financing",
   "metadata": {},
   "outputs": [
    {
     "data": {
      "text/html": [
       "<div>\n",
       "<style scoped>\n",
       "    .dataframe tbody tr th:only-of-type {\n",
       "        vertical-align: middle;\n",
       "    }\n",
       "\n",
       "    .dataframe tbody tr th {\n",
       "        vertical-align: top;\n",
       "    }\n",
       "\n",
       "    .dataframe thead th {\n",
       "        text-align: right;\n",
       "    }\n",
       "</style>\n",
       "<table border=\"1\" class=\"dataframe\">\n",
       "  <thead>\n",
       "    <tr style=\"text-align: right;\">\n",
       "      <th></th>\n",
       "      <th>estimator</th>\n",
       "      <th>best_params</th>\n",
       "      <th>train_score</th>\n",
       "      <th>test_score</th>\n",
       "      <th>cv_result</th>\n",
       "    </tr>\n",
       "  </thead>\n",
       "  <tbody>\n",
       "    <tr>\n",
       "      <th>0</th>\n",
       "      <td>DecisionTreeClassifier</td>\n",
       "      <td>{'max_features': 0.7992013962023833, 'max_dept...</td>\n",
       "      <td>0.853432</td>\n",
       "      <td>0.844156</td>\n",
       "      <td>{'mean_fit_time': [0.01680164337158203, 0.0098...</td>\n",
       "    </tr>\n",
       "    <tr>\n",
       "      <th>1</th>\n",
       "      <td>RandomForestClassifier</td>\n",
       "      <td>{'n_estimators': 188, 'max_features': 0.797625...</td>\n",
       "      <td>0.905584</td>\n",
       "      <td>0.857143</td>\n",
       "      <td>{'mean_fit_time': [0.4590752601623535, 0.73879...</td>\n",
       "    </tr>\n",
       "    <tr>\n",
       "      <th>2</th>\n",
       "      <td>GradientBoostingClassifier</td>\n",
       "      <td>{'n_estimators': 123, 'max_features': 0.797625...</td>\n",
       "      <td>0.897441</td>\n",
       "      <td>0.844156</td>\n",
       "      <td>{'mean_fit_time': [1.2832883834838866, 0.26721...</td>\n",
       "    </tr>\n",
       "  </tbody>\n",
       "</table>\n",
       "</div>"
      ],
      "text/plain": [
       "                    estimator  \\\n",
       "0      DecisionTreeClassifier   \n",
       "1      RandomForestClassifier   \n",
       "2  GradientBoostingClassifier   \n",
       "\n",
       "                                         best_params  train_score  test_score  \\\n",
       "0  {'max_features': 0.7992013962023833, 'max_dept...     0.853432    0.844156   \n",
       "1  {'n_estimators': 188, 'max_features': 0.797625...     0.905584    0.857143   \n",
       "2  {'n_estimators': 123, 'max_features': 0.797625...     0.897441    0.844156   \n",
       "\n",
       "                                           cv_result  \n",
       "0  {'mean_fit_time': [0.01680164337158203, 0.0098...  \n",
       "1  {'mean_fit_time': [0.4590752601623535, 0.73879...  \n",
       "2  {'mean_fit_time': [1.2832883834838866, 0.26721...  "
      ]
     },
     "execution_count": 97,
     "metadata": {},
     "output_type": "execute_result"
    }
   ],
   "source": [
    "# 모델 별로 가장 성능 좋은 파라미터 수치 알 수 있음\n",
    "df = pd.DataFrame(results, \n",
    "             columns=[\"estimator\", \"best_params\", \"train_score\", \"test_score\", \"cv_result\"])\n",
    "df"
   ]
  },
  {
   "cell_type": "code",
   "execution_count": 98,
   "id": "several-point",
   "metadata": {},
   "outputs": [
    {
     "data": {
      "text/html": [
       "<div>\n",
       "<style scoped>\n",
       "    .dataframe tbody tr th:only-of-type {\n",
       "        vertical-align: middle;\n",
       "    }\n",
       "\n",
       "    .dataframe tbody tr th {\n",
       "        vertical-align: top;\n",
       "    }\n",
       "\n",
       "    .dataframe thead th {\n",
       "        text-align: right;\n",
       "    }\n",
       "</style>\n",
       "<table border=\"1\" class=\"dataframe\">\n",
       "  <thead>\n",
       "    <tr style=\"text-align: right;\">\n",
       "      <th></th>\n",
       "      <th>mean_fit_time</th>\n",
       "      <th>std_fit_time</th>\n",
       "      <th>mean_score_time</th>\n",
       "      <th>std_score_time</th>\n",
       "      <th>param_n_estimators</th>\n",
       "      <th>param_max_features</th>\n",
       "      <th>param_max_depth</th>\n",
       "      <th>params</th>\n",
       "      <th>split0_test_score</th>\n",
       "      <th>split1_test_score</th>\n",
       "      <th>split2_test_score</th>\n",
       "      <th>split3_test_score</th>\n",
       "      <th>split4_test_score</th>\n",
       "      <th>mean_test_score</th>\n",
       "      <th>std_test_score</th>\n",
       "      <th>rank_test_score</th>\n",
       "    </tr>\n",
       "  </thead>\n",
       "  <tbody>\n",
       "    <tr>\n",
       "      <th>3</th>\n",
       "      <td>0.702472</td>\n",
       "      <td>0.033720</td>\n",
       "      <td>0.041448</td>\n",
       "      <td>0.004352</td>\n",
       "      <td>188</td>\n",
       "      <td>0.797626</td>\n",
       "      <td>7</td>\n",
       "      <td>{'n_estimators': 188, 'max_features': 0.797625...</td>\n",
       "      <td>0.878049</td>\n",
       "      <td>0.943089</td>\n",
       "      <td>0.869919</td>\n",
       "      <td>0.902439</td>\n",
       "      <td>0.934426</td>\n",
       "      <td>0.905584</td>\n",
       "      <td>0.029253</td>\n",
       "      <td>1</td>\n",
       "    </tr>\n",
       "    <tr>\n",
       "      <th>8</th>\n",
       "      <td>0.697499</td>\n",
       "      <td>0.061337</td>\n",
       "      <td>0.042404</td>\n",
       "      <td>0.005003</td>\n",
       "      <td>165</td>\n",
       "      <td>0.835659</td>\n",
       "      <td>15</td>\n",
       "      <td>{'n_estimators': 165, 'max_features': 0.835659...</td>\n",
       "      <td>0.886179</td>\n",
       "      <td>0.943089</td>\n",
       "      <td>0.853659</td>\n",
       "      <td>0.902439</td>\n",
       "      <td>0.926230</td>\n",
       "      <td>0.902319</td>\n",
       "      <td>0.031184</td>\n",
       "      <td>2</td>\n",
       "    </tr>\n",
       "    <tr>\n",
       "      <th>1</th>\n",
       "      <td>0.738795</td>\n",
       "      <td>0.065721</td>\n",
       "      <td>0.040414</td>\n",
       "      <td>0.005294</td>\n",
       "      <td>188</td>\n",
       "      <td>0.835659</td>\n",
       "      <td>15</td>\n",
       "      <td>{'n_estimators': 188, 'max_features': 0.835659...</td>\n",
       "      <td>0.878049</td>\n",
       "      <td>0.943089</td>\n",
       "      <td>0.853659</td>\n",
       "      <td>0.902439</td>\n",
       "      <td>0.926230</td>\n",
       "      <td>0.900693</td>\n",
       "      <td>0.032180</td>\n",
       "      <td>3</td>\n",
       "    </tr>\n",
       "    <tr>\n",
       "      <th>2</th>\n",
       "      <td>0.689997</td>\n",
       "      <td>0.034521</td>\n",
       "      <td>0.045002</td>\n",
       "      <td>0.006871</td>\n",
       "      <td>198</td>\n",
       "      <td>0.628251</td>\n",
       "      <td>7</td>\n",
       "      <td>{'n_estimators': 198, 'max_features': 0.628251...</td>\n",
       "      <td>0.853659</td>\n",
       "      <td>0.934959</td>\n",
       "      <td>0.861789</td>\n",
       "      <td>0.902439</td>\n",
       "      <td>0.934426</td>\n",
       "      <td>0.897454</td>\n",
       "      <td>0.034608</td>\n",
       "      <td>4</td>\n",
       "    </tr>\n",
       "    <tr>\n",
       "      <th>9</th>\n",
       "      <td>0.430455</td>\n",
       "      <td>0.041882</td>\n",
       "      <td>0.027306</td>\n",
       "      <td>0.004398</td>\n",
       "      <td>111</td>\n",
       "      <td>0.464126</td>\n",
       "      <td>15</td>\n",
       "      <td>{'n_estimators': 111, 'max_features': 0.464126...</td>\n",
       "      <td>0.869919</td>\n",
       "      <td>0.934959</td>\n",
       "      <td>0.853659</td>\n",
       "      <td>0.894309</td>\n",
       "      <td>0.934426</td>\n",
       "      <td>0.897454</td>\n",
       "      <td>0.033045</td>\n",
       "      <td>4</td>\n",
       "    </tr>\n",
       "    <tr>\n",
       "      <th>7</th>\n",
       "      <td>0.580069</td>\n",
       "      <td>0.019979</td>\n",
       "      <td>0.036799</td>\n",
       "      <td>0.001936</td>\n",
       "      <td>165</td>\n",
       "      <td>0.649578</td>\n",
       "      <td>15</td>\n",
       "      <td>{'n_estimators': 165, 'max_features': 0.649578...</td>\n",
       "      <td>0.861789</td>\n",
       "      <td>0.934959</td>\n",
       "      <td>0.853659</td>\n",
       "      <td>0.910569</td>\n",
       "      <td>0.918033</td>\n",
       "      <td>0.895802</td>\n",
       "      <td>0.032182</td>\n",
       "      <td>6</td>\n",
       "    </tr>\n",
       "    <tr>\n",
       "      <th>5</th>\n",
       "      <td>0.530729</td>\n",
       "      <td>0.019958</td>\n",
       "      <td>0.044404</td>\n",
       "      <td>0.011271</td>\n",
       "      <td>146</td>\n",
       "      <td>0.835659</td>\n",
       "      <td>4</td>\n",
       "      <td>{'n_estimators': 146, 'max_features': 0.835659...</td>\n",
       "      <td>0.853659</td>\n",
       "      <td>0.926829</td>\n",
       "      <td>0.853659</td>\n",
       "      <td>0.894309</td>\n",
       "      <td>0.918033</td>\n",
       "      <td>0.889298</td>\n",
       "      <td>0.030983</td>\n",
       "      <td>7</td>\n",
       "    </tr>\n",
       "    <tr>\n",
       "      <th>6</th>\n",
       "      <td>0.384627</td>\n",
       "      <td>0.014066</td>\n",
       "      <td>0.026802</td>\n",
       "      <td>0.003868</td>\n",
       "      <td>111</td>\n",
       "      <td>0.850592</td>\n",
       "      <td>3</td>\n",
       "      <td>{'n_estimators': 111, 'max_features': 0.850592...</td>\n",
       "      <td>0.837398</td>\n",
       "      <td>0.926829</td>\n",
       "      <td>0.821138</td>\n",
       "      <td>0.878049</td>\n",
       "      <td>0.934426</td>\n",
       "      <td>0.879568</td>\n",
       "      <td>0.045690</td>\n",
       "      <td>8</td>\n",
       "    </tr>\n",
       "    <tr>\n",
       "      <th>0</th>\n",
       "      <td>0.459075</td>\n",
       "      <td>0.010437</td>\n",
       "      <td>0.099365</td>\n",
       "      <td>0.016620</td>\n",
       "      <td>135</td>\n",
       "      <td>0.797626</td>\n",
       "      <td>3</td>\n",
       "      <td>{'n_estimators': 135, 'max_features': 0.797625...</td>\n",
       "      <td>0.837398</td>\n",
       "      <td>0.918699</td>\n",
       "      <td>0.821138</td>\n",
       "      <td>0.878049</td>\n",
       "      <td>0.934426</td>\n",
       "      <td>0.877942</td>\n",
       "      <td>0.044096</td>\n",
       "      <td>9</td>\n",
       "    </tr>\n",
       "    <tr>\n",
       "      <th>4</th>\n",
       "      <td>0.332468</td>\n",
       "      <td>0.016817</td>\n",
       "      <td>0.024780</td>\n",
       "      <td>0.001164</td>\n",
       "      <td>111</td>\n",
       "      <td>0.464126</td>\n",
       "      <td>2</td>\n",
       "      <td>{'n_estimators': 111, 'max_features': 0.464126...</td>\n",
       "      <td>0.837398</td>\n",
       "      <td>0.894309</td>\n",
       "      <td>0.861789</td>\n",
       "      <td>0.837398</td>\n",
       "      <td>0.918033</td>\n",
       "      <td>0.869785</td>\n",
       "      <td>0.031909</td>\n",
       "      <td>10</td>\n",
       "    </tr>\n",
       "  </tbody>\n",
       "</table>\n",
       "</div>"
      ],
      "text/plain": [
       "   mean_fit_time  std_fit_time  mean_score_time  std_score_time  \\\n",
       "3       0.702472      0.033720         0.041448        0.004352   \n",
       "8       0.697499      0.061337         0.042404        0.005003   \n",
       "1       0.738795      0.065721         0.040414        0.005294   \n",
       "2       0.689997      0.034521         0.045002        0.006871   \n",
       "9       0.430455      0.041882         0.027306        0.004398   \n",
       "7       0.580069      0.019979         0.036799        0.001936   \n",
       "5       0.530729      0.019958         0.044404        0.011271   \n",
       "6       0.384627      0.014066         0.026802        0.003868   \n",
       "0       0.459075      0.010437         0.099365        0.016620   \n",
       "4       0.332468      0.016817         0.024780        0.001164   \n",
       "\n",
       "  param_n_estimators param_max_features param_max_depth  \\\n",
       "3                188           0.797626               7   \n",
       "8                165           0.835659              15   \n",
       "1                188           0.835659              15   \n",
       "2                198           0.628251               7   \n",
       "9                111           0.464126              15   \n",
       "7                165           0.649578              15   \n",
       "5                146           0.835659               4   \n",
       "6                111           0.850592               3   \n",
       "0                135           0.797626               3   \n",
       "4                111           0.464126               2   \n",
       "\n",
       "                                              params  split0_test_score  \\\n",
       "3  {'n_estimators': 188, 'max_features': 0.797625...           0.878049   \n",
       "8  {'n_estimators': 165, 'max_features': 0.835659...           0.886179   \n",
       "1  {'n_estimators': 188, 'max_features': 0.835659...           0.878049   \n",
       "2  {'n_estimators': 198, 'max_features': 0.628251...           0.853659   \n",
       "9  {'n_estimators': 111, 'max_features': 0.464126...           0.869919   \n",
       "7  {'n_estimators': 165, 'max_features': 0.649578...           0.861789   \n",
       "5  {'n_estimators': 146, 'max_features': 0.835659...           0.853659   \n",
       "6  {'n_estimators': 111, 'max_features': 0.850592...           0.837398   \n",
       "0  {'n_estimators': 135, 'max_features': 0.797625...           0.837398   \n",
       "4  {'n_estimators': 111, 'max_features': 0.464126...           0.837398   \n",
       "\n",
       "   split1_test_score  split2_test_score  split3_test_score  split4_test_score  \\\n",
       "3           0.943089           0.869919           0.902439           0.934426   \n",
       "8           0.943089           0.853659           0.902439           0.926230   \n",
       "1           0.943089           0.853659           0.902439           0.926230   \n",
       "2           0.934959           0.861789           0.902439           0.934426   \n",
       "9           0.934959           0.853659           0.894309           0.934426   \n",
       "7           0.934959           0.853659           0.910569           0.918033   \n",
       "5           0.926829           0.853659           0.894309           0.918033   \n",
       "6           0.926829           0.821138           0.878049           0.934426   \n",
       "0           0.918699           0.821138           0.878049           0.934426   \n",
       "4           0.894309           0.861789           0.837398           0.918033   \n",
       "\n",
       "   mean_test_score  std_test_score  rank_test_score  \n",
       "3         0.905584        0.029253                1  \n",
       "8         0.902319        0.031184                2  \n",
       "1         0.900693        0.032180                3  \n",
       "2         0.897454        0.034608                4  \n",
       "9         0.897454        0.033045                4  \n",
       "7         0.895802        0.032182                6  \n",
       "5         0.889298        0.030983                7  \n",
       "6         0.879568        0.045690                8  \n",
       "0         0.877942        0.044096                9  \n",
       "4         0.869785        0.031909               10  "
      ]
     },
     "execution_count": 98,
     "metadata": {},
     "output_type": "execute_result"
    }
   ],
   "source": [
    "# 모델에 각각 접근하여 상위에 있는 모델 순서대로 보거나 정확한 parameter 설정 수치 확인 가능 \n",
    "# 좋은 성능이 나오는 구간으로 계속 iteration을 돌릴 필요가 있음\n",
    "# 하이퍼 파라미터 튜닝을 여러 번 할수록 좋은 성능을 얻을 수 있음\n",
    "\n",
    "pd.DataFrame(df.loc[1, \"cv_result\"]).sort_values(by=\"rank_test_score\")"
   ]
  },
  {
   "cell_type": "code",
   "execution_count": null,
   "id": "verbal-power",
   "metadata": {},
   "outputs": [],
   "source": []
  }
 ],
 "metadata": {
  "kernelspec": {
   "display_name": "Python 3",
   "language": "python",
   "name": "python3"
  },
  "language_info": {
   "codemirror_mode": {
    "name": "ipython",
    "version": 3
   },
   "file_extension": ".py",
   "mimetype": "text/x-python",
   "name": "python",
   "nbconvert_exporter": "python",
   "pygments_lexer": "ipython3",
   "version": "3.7.7"
  }
 },
 "nbformat": 4,
 "nbformat_minor": 5
}
