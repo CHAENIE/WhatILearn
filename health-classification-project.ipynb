{
 "cells": [
  {
   "cell_type": "markdown",
   "metadata": {},
   "source": [
    "## 국민건강보험 건강검진 정보는?\n",
    "\n",
    "* 건강검진정보란 국민건강보험의 직장가입자와 40세 이상의 피부양자, 세대주인 지역가입자와 40세 이상의 지역가입자의 일반건강검진 결과와 이들 일반건강검진 대상자 중에 만40세와 만66세에 도달한 이들이 받게 되는 생애전환기건강진단 수검이력이 있는 각 연도별 수진자 100만 명에 대한 기본정보(성, 연령대, 시도코드 등)와 검진내역(신장, 체중, 총콜레스테롤, 혈색소 등)으로 구성된 개방데이터 중 만개의 데이터를 임의로 추출했습니다.\n",
    "\n",
    "## EDA\n",
    "* EDA는 [부스트코스] 파이썬으로 시작하는 데이터 사이언스 > 4. 건강검진 데이터로 가설검정하기 를 참고해 주세요.\n",
    "https://www.edwith.org/boostcourse-ds-510/lectures/28143\n",
    "\n",
    "## 분류 모델로 음주여부 예측하기\n",
    "\n",
    "* 건강검진 센터에서 음주여부에 응답을 하지 않는 사람이 있다고 가정합니다.\n",
    "* 검진 데이터를 바탕으로 음주여부를 예측한다면 건강한 생활습관을 가이드하는데 도움이 될 것 입니다.\n",
    "* 분류기 모델을 사용해서 건강검진 데이터를 바탕으로 음주여부를 예측해 봅니다.\n",
    "\n",
    "\n",
    "\n",
    "## 필요한 라이브러리 로드\n",
    "* 영상과 프로젝트 코드 작성에 사용한 버전입니다.\n",
    "    * pandas : 1.0.1\n",
    "    * numpy : 1.18.1\n",
    "    * scikit-learn(sklearn) : 0.22.1"
   ]
  },
  {
   "cell_type": "code",
   "execution_count": 1,
   "metadata": {},
   "outputs": [],
   "source": [
    "# 데이터 분석을 위한 pandas, 수치계산을 위한 numpy\n",
    "# 시각화를 위한 seaborn, matplotlib.pyplot 을 로드합니다. \n",
    "import pandas as pd\n",
    "import numpy as np\n",
    "import seaborn as sns\n",
    "import matplotlib.pyplot as plt\n",
    "\n",
    "%matplotlib inline"
   ]
  },
  {
   "cell_type": "markdown",
   "metadata": {},
   "source": [
    "## 셀프리뷰를 위한 파일 로드"
   ]
  },
  {
   "cell_type": "code",
   "execution_count": 2,
   "metadata": {},
   "outputs": [],
   "source": [
    "# classification_checker.py 를 import 해서 사용합니다.\n",
    "# classification_checker 명칭을 줄여서 checker 라고 사용합니다.\n",
    "import check_util.classification_checker as checker"
   ]
  },
  {
   "cell_type": "code",
   "execution_count": 3,
   "metadata": {},
   "outputs": [
    {
     "name": "stdout",
     "output_type": "stream",
     "text": [
      "셀프리뷰 파일이 정상로드 되었습니다. 이어서 진행하셔도 좋습니다.\n"
     ]
    },
    {
     "data": {
      "text/html": [
       "<div>\n",
       "<style scoped>\n",
       "    .dataframe tbody tr th:only-of-type {\n",
       "        vertical-align: middle;\n",
       "    }\n",
       "\n",
       "    .dataframe tbody tr th {\n",
       "        vertical-align: top;\n",
       "    }\n",
       "\n",
       "    .dataframe thead th {\n",
       "        text-align: right;\n",
       "    }\n",
       "</style>\n",
       "<table border=\"1\" class=\"dataframe\">\n",
       "  <thead>\n",
       "    <tr style=\"text-align: right;\">\n",
       "      <th></th>\n",
       "      <th>subject</th>\n",
       "      <th>criteria</th>\n",
       "      <th>content</th>\n",
       "      <th>flag</th>\n",
       "    </tr>\n",
       "    <tr>\n",
       "      <th>todo</th>\n",
       "      <th></th>\n",
       "      <th></th>\n",
       "      <th></th>\n",
       "      <th></th>\n",
       "    </tr>\n",
       "  </thead>\n",
       "  <tbody>\n",
       "    <tr>\n",
       "      <th>1</th>\n",
       "      <td>데이터 전처리</td>\n",
       "      <td>결측치 채우기</td>\n",
       "      <td>\"요단백\"의 결측치를 최빈값으로 대체한다.</td>\n",
       "      <td>False</td>\n",
       "    </tr>\n",
       "    <tr>\n",
       "      <th>2</th>\n",
       "      <td>데이터 전처리</td>\n",
       "      <td>결측치 채우기</td>\n",
       "      <td>\"LDL콜레스테롤\"의 결측치를 중앙값으로 대체한다.</td>\n",
       "      <td>False</td>\n",
       "    </tr>\n",
       "    <tr>\n",
       "      <th>3</th>\n",
       "      <td>데이터 전처리</td>\n",
       "      <td>결측치 확인</td>\n",
       "      <td>전체 데이터에 결측치가 있는지 확인한다.</td>\n",
       "      <td>False</td>\n",
       "    </tr>\n",
       "    <tr>\n",
       "      <th>4</th>\n",
       "      <td>데이터셋 분리</td>\n",
       "      <td>데이터셋 분리</td>\n",
       "      <td>train, test 가 8:2로 되도록 분리한다.</td>\n",
       "      <td>False</td>\n",
       "    </tr>\n",
       "    <tr>\n",
       "      <th>5</th>\n",
       "      <td>모델 만들기</td>\n",
       "      <td>모델 만들기</td>\n",
       "      <td>RandomForestClassifier 모델을 정의한다.</td>\n",
       "      <td>False</td>\n",
       "    </tr>\n",
       "    <tr>\n",
       "      <th>6</th>\n",
       "      <td>모델의 성능 측정하기</td>\n",
       "      <td>Accuracy를 통한 성능 측정</td>\n",
       "      <td>사이킷런의 accuracy_score 를 통해 테스트 데이터 예측의 정확도가 72 ...</td>\n",
       "      <td>False</td>\n",
       "    </tr>\n",
       "  </tbody>\n",
       "</table>\n",
       "</div>"
      ],
      "text/plain": [
       "          subject            criteria  \\\n",
       "todo                                    \n",
       "1         데이터 전처리             결측치 채우기   \n",
       "2         데이터 전처리             결측치 채우기   \n",
       "3         데이터 전처리              결측치 확인   \n",
       "4         데이터셋 분리             데이터셋 분리   \n",
       "5          모델 만들기              모델 만들기   \n",
       "6     모델의 성능 측정하기  Accuracy를 통한 성능 측정   \n",
       "\n",
       "                                                content   flag  \n",
       "todo                                                            \n",
       "1                               \"요단백\"의 결측치를 최빈값으로 대체한다.  False  \n",
       "2                          \"LDL콜레스테롤\"의 결측치를 중앙값으로 대체한다.  False  \n",
       "3                                전체 데이터에 결측치가 있는지 확인한다.  False  \n",
       "4                          train, test 가 8:2로 되도록 분리한다.  False  \n",
       "5                      RandomForestClassifier 모델을 정의한다.  False  \n",
       "6     사이킷런의 accuracy_score 를 통해 테스트 데이터 예측의 정확도가 72 ...  False  "
      ]
     },
     "execution_count": 3,
     "metadata": {},
     "output_type": "execute_result"
    }
   ],
   "source": [
    "# 셀프리뷰 파일이 정상로드 되었는지 확인합니다.\n",
    "checker.check_load_self_review()"
   ]
  },
  {
   "cell_type": "markdown",
   "metadata": {},
   "source": [
    "## 한글폰트 사용하기"
   ]
  },
  {
   "cell_type": "code",
   "execution_count": 4,
   "metadata": {},
   "outputs": [],
   "source": [
    "# 한글폰트를 설정해 주지 않으면 그래프 상에서 한글이 깨져보입니다.\n",
    "# 한글이 출력될 수 있도록 폰트 설정을 해줍니다.\n",
    "# 운영체제별 설정을 위해 로드 합니다.\n",
    "import os\n",
    "\n",
    "# 윈도우, 맥 외의 OS는 별도로 설정해 주세요.\n",
    "if os.name == 'posix':\n",
    "    plt.rc(\"font\", family=\"AppleGothic\")\n",
    "else:\n",
    "    plt.rc(\"font\", family=\"Malgun Gothic\")\n",
    "# 마이너스 폰트 깨지는 문제에 대한 대처\n",
    "plt.rc(\"axes\", unicode_minus=False)"
   ]
  },
  {
   "cell_type": "code",
   "execution_count": 5,
   "metadata": {},
   "outputs": [],
   "source": [
    "# 레티나 설정을 해주면 글씨가 좀 더 선명하게 보입니다.\n",
    "# 폰트의 주변이 흐릿하게 보이는 것을 방지합니다.\n",
    "%config InlineBackend.figure_format = 'retina'"
   ]
  },
  {
   "cell_type": "markdown",
   "metadata": {},
   "source": [
    "## 데이터 불러오기"
   ]
  },
  {
   "cell_type": "code",
   "execution_count": 6,
   "metadata": {},
   "outputs": [
    {
     "data": {
      "text/plain": [
       "(10000, 34)"
      ]
     },
     "execution_count": 6,
     "metadata": {},
     "output_type": "execute_result"
    }
   ],
   "source": [
    "df = pd.read_csv(\"data/health.csv\")\n",
    "df.shape"
   ]
  },
  {
   "cell_type": "markdown",
   "metadata": {},
   "source": [
    "## EDA "
   ]
  },
  {
   "cell_type": "code",
   "execution_count": 7,
   "metadata": {},
   "outputs": [
    {
     "data": {
      "text/plain": [
       "1.0    5037\n",
       "0.0    4963\n",
       "Name: 음주여부, dtype: int64"
      ]
     },
     "execution_count": 7,
     "metadata": {},
     "output_type": "execute_result"
    }
   ],
   "source": [
    "df[\"음주여부\"].value_counts()"
   ]
  },
  {
   "cell_type": "code",
   "execution_count": 8,
   "metadata": {},
   "outputs": [
    {
     "data": {
      "text/plain": [
       "<AxesSubplot:xlabel='음주여부', ylabel='count'>"
      ]
     },
     "execution_count": 8,
     "metadata": {},
     "output_type": "execute_result"
    },
    {
     "data": {
      "image/png": "[encoded data removed]",
      "text/plain": [
       "<Figure size 432x288 with 1 Axes>"
      ]
     },
     "metadata": {
      "image/png": {
       "height": 263,
       "width": 392
      },
      "needs_background": "light"
     },
     "output_type": "display_data"
    }
   ],
   "source": [
    "sns.countplot(data=df, x=\"음주여부\")"
   ]
  },
  {
   "cell_type": "markdown",
   "metadata": {},
   "source": [
    "## 데이터 전처리\n",
    "### 결측치 여부 보기"
   ]
  },
  {
   "cell_type": "code",
   "execution_count": 9,
   "metadata": {},
   "outputs": [
    {
     "data": {
      "text/plain": [
       "기준년도                0\n",
       "가입자일련번호             0\n",
       "성별코드                0\n",
       "연령대코드(5세단위)         0\n",
       "시도코드                0\n",
       "신장(5Cm단위)           1\n",
       "체중(5Kg 단위)          1\n",
       "허리둘레                0\n",
       "시력(좌)               3\n",
       "시력(우)               3\n",
       "청력(좌)               1\n",
       "청력(우)               1\n",
       "수축기혈압               0\n",
       "이완기혈압               0\n",
       "식전혈당(공복혈당)          0\n",
       "총콜레스테롤              0\n",
       "트리글리세라이드            0\n",
       "HDL콜레스테롤            0\n",
       "LDL콜레스테롤           27\n",
       "혈색소                 0\n",
       "요단백                38\n",
       "혈청크레아티닌             0\n",
       "(혈청지오티)AST          0\n",
       "(혈청지오티)ALT          0\n",
       "감마지티피               0\n",
       "흡연상태                1\n",
       "음주여부                0\n",
       "구강검진 수검여부           0\n",
       "치아우식증유무         10000\n",
       "결손치유무           10000\n",
       "치아마모증유무         10000\n",
       "제3대구치(사랑니)이상    10000\n",
       "치석               6059\n",
       "데이터공개일자             0\n",
       "dtype: int64"
      ]
     },
     "execution_count": 9,
     "metadata": {},
     "output_type": "execute_result"
    }
   ],
   "source": [
    "df.isnull().sum()"
   ]
  },
  {
   "cell_type": "markdown",
   "metadata": {},
   "source": [
    "### 결측치 채우기\n",
    "* 결측치가 있다면 머신러닝 알고리즘이 학습과 예측을 할 수 없습니다.\n",
    "* 결측치를 대체하는 방법으로는 여러가지가 있습니다. 평균, 중앙, 최빈값 등으로 채우기도 하며\n",
    "* 그룹화된 값으로 대표값을 찾아 대체해 주기도 합니다.\n",
    "* 결측치가 일부라면 제거하기도 합니다. \n",
    "* 또, 머신러닝을 통해 예측해서 대체하기도 합니다."
   ]
  },
  {
   "cell_type": "code",
   "execution_count": 10,
   "metadata": {},
   "outputs": [
    {
     "data": {
      "text/plain": [
       "1.0    9391\n",
       "2.0     304\n",
       "3.0     170\n",
       "4.0      70\n",
       "5.0      19\n",
       "6.0       8\n",
       "Name: 요단백, dtype: int64"
      ]
     },
     "execution_count": 10,
     "metadata": {},
     "output_type": "execute_result"
    }
   ],
   "source": [
    "# 요단백의 빈도수를 세어봅니다.\n",
    "df[\"요단백\"].value_counts()"
   ]
  },
  {
   "cell_type": "markdown",
   "metadata": {},
   "source": [
    "### <font color=\"red\">TODO 1</font> 결측치를 최빈값으로 채우기\n",
    "* <font color=\"blue\">fillna</font>를 사용해서 요단백의 결측치를 <font color=\"red\">최빈값</font>으로 채웁니다."
   ]
  },
  {
   "cell_type": "code",
   "execution_count": 11,
   "metadata": {},
   "outputs": [
    {
     "data": {
      "text/plain": [
       "1.0"
      ]
     },
     "execution_count": 11,
     "metadata": {},
     "output_type": "execute_result"
    }
   ],
   "source": [
    "# 요단백의 최빈값을 구해서 mode 라는 변수에 할당합니다.\n",
    "mode = df[\"요단백\"].mode()[0]\n",
    "mode"
   ]
  },
  {
   "cell_type": "code",
   "execution_count": 14,
   "metadata": {},
   "outputs": [],
   "source": [
    "# 결측치를 채워주세요.\n",
    "df[\"요단백\"] = df.fillna(value=mode) # 밑줄을 제거하고 코드를 작성해 주세요!"
   ]
  },
  {
   "cell_type": "code",
   "execution_count": 15,
   "metadata": {},
   "outputs": [
    {
     "data": {
      "text/plain": [
       "0"
      ]
     },
     "execution_count": 15,
     "metadata": {},
     "output_type": "execute_result"
    }
   ],
   "source": [
    "# 결측치가 제대로 채워졌는지 확인합니다.\n",
    "df[\"요단백\"].isnull().sum()"
   ]
  },
  {
   "cell_type": "markdown",
   "metadata": {},
   "source": [
    "#### <font color=\"blue\">TODO 1 Self Review</font>"
   ]
  },
  {
   "cell_type": "code",
   "execution_count": 16,
   "metadata": {},
   "outputs": [
    {
     "name": "stdout",
     "output_type": "stream",
     "text": [
      "요단백의 결측치를 잘 채워주셨습니다. 이어서 진행하셔도 좋습니다.\n"
     ]
    }
   ],
   "source": [
    "# 요단백 결측치가 잘 채워졌는지 다음의 코드를 실행해서 확인합니다.\n",
    "# 아래의 코드를 실행해서 확인을 해주어야 제출파일을 작성할 수 있으니 꼭 확인해 주세요!\n",
    "checker.check_null_up(df)"
   ]
  },
  {
   "cell_type": "markdown",
   "metadata": {},
   "source": [
    "### <font color=\"red\">TODO 2</font> 결측치 중앙값으로 채우기\n",
    "* \"LDL콜레스테롤\"의 결측치를 <font color=\"blue\">중앙값</font>으로 채웁니다."
   ]
  },
  {
   "cell_type": "code",
   "execution_count": 17,
   "metadata": {},
   "outputs": [
    {
     "name": "stderr",
     "output_type": "stream",
     "text": [
      "c:\\deep\\python37\\lib\\site-packages\\seaborn\\distributions.py:2557: FutureWarning: `distplot` is a deprecated function and will be removed in a future version. Please adapt your code to use either `displot` (a figure-level function with similar flexibility) or `histplot` (an axes-level function for histograms).\n",
      "  warnings.warn(msg, FutureWarning)\n",
      "c:\\deep\\python37\\lib\\site-packages\\seaborn\\distributions.py:2557: FutureWarning: `distplot` is a deprecated function and will be removed in a future version. Please adapt your code to use either `displot` (a figure-level function with similar flexibility) or `histplot` (an axes-level function for histograms).\n",
      "  warnings.warn(msg, FutureWarning)\n"
     ]
    },
    {
     "data": {
      "text/plain": [
       "<AxesSubplot:xlabel='LDL콜레스테롤', ylabel='Density'>"
      ]
     },
     "execution_count": 17,
     "metadata": {},
     "output_type": "execute_result"
    },
    {
     "data": {
      "image/png": "[encoded data removed]",
      "text/plain": [
       "<Figure size 432x288 with 1 Axes>"
      ]
     },
     "metadata": {
      "image/png": {
       "height": 263,
       "width": 401
      },
      "needs_background": "light"
     },
     "output_type": "display_data"
    }
   ],
   "source": [
    "sns.distplot(df.loc[(df[\"LDL콜레스테롤\"].notnull()) & (df[\"음주여부\"] == 0), \"LDL콜레스테롤\"])\n",
    "sns.distplot(df.loc[(df[\"LDL콜레스테롤\"].notnull()) & (df[\"음주여부\"] == 1), \"LDL콜레스테롤\"])"
   ]
  },
  {
   "cell_type": "code",
   "execution_count": 18,
   "metadata": {},
   "outputs": [
    {
     "data": {
      "text/plain": [
       "111.0"
      ]
     },
     "execution_count": 18,
     "metadata": {},
     "output_type": "execute_result"
    }
   ],
   "source": [
    "# \"LDL콜레스테롤\" 의 결측치를 제거한 값에서 중앙값을 구합니다.\n",
    "ldl_median = df[\"LDL콜레스테롤\"].median()# 밑줄을 제거하고 중앙값을 채워주세요!\n",
    "ldl_median"
   ]
  },
  {
   "cell_type": "markdown",
   "metadata": {},
   "source": [
    "* 아래의 코드를 완성해서 \"LDL콜레스테롤\"의 결측치를 <font color=\"blue\">중앙값</font>으로 채웁니다."
   ]
  },
  {
   "cell_type": "code",
   "execution_count": 19,
   "metadata": {},
   "outputs": [
    {
     "data": {
      "text/plain": [
       "0"
      ]
     },
     "execution_count": 19,
     "metadata": {},
     "output_type": "execute_result"
    }
   ],
   "source": [
    "df[\"LDL콜레스테롤\"] = df[\"LDL콜레스테롤\"].fillna(ldl_median)\n",
    "df[\"LDL콜레스테롤\"].isnull().sum()"
   ]
  },
  {
   "cell_type": "markdown",
   "metadata": {},
   "source": [
    "#### <font color=\"blue\">TODO 2 Self Review</font>"
   ]
  },
  {
   "cell_type": "code",
   "execution_count": 20,
   "metadata": {},
   "outputs": [
    {
     "name": "stdout",
     "output_type": "stream",
     "text": [
      "LDL콜레스테롤의 결측치를 잘 채워주셨습니다. 이어서 진행하셔도 좋습니다.\n"
     ]
    }
   ],
   "source": [
    "# LDL콜레스테롤의 결측치가 잘 채워졌는지 다음의 코드를 실행해서 확인합니다.\n",
    "# 아래의 코드를 실행해서 확인을 해주어야 제출파일을 작성할 수 있으니 꼭 확인해 주세요!\n",
    "checker.check_ldl_median(df)"
   ]
  },
  {
   "cell_type": "markdown",
   "metadata": {},
   "source": [
    "### <font color=\"red\">TODO 3</font> 결측치 일괄 채우기\n",
    "*  <font color=\"blue\">replace</font>를 사용해서 전체 결측치를 <font color=\"red\">1</font>로 채웁니다."
   ]
  },
  {
   "cell_type": "code",
   "execution_count": 26,
   "metadata": {},
   "outputs": [
    {
     "data": {
      "text/plain": [
       "기준년도            0\n",
       "가입자일련번호         0\n",
       "성별코드            0\n",
       "연령대코드(5세단위)     0\n",
       "시도코드            0\n",
       "신장(5Cm단위)       0\n",
       "체중(5Kg 단위)      0\n",
       "허리둘레            0\n",
       "시력(좌)           0\n",
       "시력(우)           0\n",
       "청력(좌)           0\n",
       "청력(우)           0\n",
       "수축기혈압           0\n",
       "이완기혈압           0\n",
       "식전혈당(공복혈당)      0\n",
       "총콜레스테롤          0\n",
       "트리글리세라이드        0\n",
       "HDL콜레스테롤        0\n",
       "LDL콜레스테롤        0\n",
       "혈색소             0\n",
       "요단백             0\n",
       "혈청크레아티닌         0\n",
       "(혈청지오티)AST      0\n",
       "(혈청지오티)ALT      0\n",
       "감마지티피           0\n",
       "흡연상태            0\n",
       "음주여부            0\n",
       "구강검진 수검여부       0\n",
       "치아우식증유무         0\n",
       "결손치유무           0\n",
       "치아마모증유무         0\n",
       "제3대구치(사랑니)이상    0\n",
       "치석              0\n",
       "데이터공개일자         0\n",
       "dtype: int64"
      ]
     },
     "execution_count": 26,
     "metadata": {},
     "output_type": "execute_result"
    }
   ],
   "source": [
    "df = df.replace(np.nan,1) # 밑줄을 제거하고 코드를 작성해 주세요!\n",
    "df.isnull().sum()"
   ]
  },
  {
   "cell_type": "markdown",
   "metadata": {},
   "source": [
    "#### <font color=\"blue\">TODO 3 Self Review</font>"
   ]
  },
  {
   "cell_type": "code",
   "execution_count": 27,
   "metadata": {},
   "outputs": [
    {
     "name": "stdout",
     "output_type": "stream",
     "text": [
      "결측치를 잘 채워주셨습니다. 이어서 진행하셔도 좋습니다.\n"
     ]
    }
   ],
   "source": [
    "# 모든 결측치가 잘 채워졌는지 다음의 코드를 실행해서 확인합니다.\n",
    "# 아래의 코드를 실행해서 확인을 해주어야 제출파일을 작성할 수 있으니 꼭 확인해 주세요!\n",
    "checker.check_null(df)"
   ]
  },
  {
   "cell_type": "markdown",
   "metadata": {},
   "source": [
    "### 정규분포 형태로 변환\n",
    "* \"총콜레스테롤\" 수치의 분포를 그려보면 왼쪽으로 치우쳐서 그려집니다.\n",
    "* 정규분포를 이루도록 로그변환을 해줍니다."
   ]
  },
  {
   "cell_type": "code",
   "execution_count": 28,
   "metadata": {},
   "outputs": [
    {
     "name": "stderr",
     "output_type": "stream",
     "text": [
      "c:\\deep\\python37\\lib\\site-packages\\seaborn\\distributions.py:2557: FutureWarning: `distplot` is a deprecated function and will be removed in a future version. Please adapt your code to use either `displot` (a figure-level function with similar flexibility) or `histplot` (an axes-level function for histograms).\n",
      "  warnings.warn(msg, FutureWarning)\n"
     ]
    },
    {
     "data": {
      "text/plain": [
       "<AxesSubplot:xlabel='총콜레스테롤', ylabel='Density'>"
      ]
     },
     "execution_count": 28,
     "metadata": {},
     "output_type": "execute_result"
    },
    {
     "data": {
      "image/png": "[encoded data removed]",
      "text/plain": [
       "<Figure size 432x288 with 1 Axes>"
      ]
     },
     "metadata": {
      "image/png": {
       "height": 263,
       "width": 394
      },
      "needs_background": "light"
     },
     "output_type": "display_data"
    }
   ],
   "source": [
    "sns.distplot(df[\"총콜레스테롤\"])"
   ]
  },
  {
   "cell_type": "code",
   "execution_count": 29,
   "metadata": {},
   "outputs": [
    {
     "name": "stderr",
     "output_type": "stream",
     "text": [
      "c:\\deep\\python37\\lib\\site-packages\\seaborn\\distributions.py:2557: FutureWarning: `distplot` is a deprecated function and will be removed in a future version. Please adapt your code to use either `displot` (a figure-level function with similar flexibility) or `histplot` (an axes-level function for histograms).\n",
      "  warnings.warn(msg, FutureWarning)\n"
     ]
    },
    {
     "data": {
      "text/plain": [
       "<AxesSubplot:xlabel='총콜레스테롤_log', ylabel='Density'>"
      ]
     },
     "execution_count": 29,
     "metadata": {},
     "output_type": "execute_result"
    },
    {
     "data": {
      "image/png": "[encoded data removed]",
      "text/plain": [
       "<Figure size 432x288 with 1 Axes>"
      ]
     },
     "metadata": {
      "image/png": {
       "height": 264,
       "width": 383
      },
      "needs_background": "light"
     },
     "output_type": "display_data"
    }
   ],
   "source": [
    "df[\"총콜레스테롤_log\"] = np.log(df[\"총콜레스테롤\"] + 1)\n",
    "sns.distplot(df[\"총콜레스테롤_log\"])"
   ]
  },
  {
   "cell_type": "markdown",
   "metadata": {},
   "source": [
    "* \"감마지티피\"수치의 분포를 그려보면 \"총콜레스테롤\" 처럼 왼쪽으로 치우쳐서 그려집니다.\n",
    "* 또한 너무 뾰족한 형태를 이루고 있습니다.\n",
    "* 정규분포를 이루도록 로그변환을 해줍니다."
   ]
  },
  {
   "cell_type": "code",
   "execution_count": 30,
   "metadata": {},
   "outputs": [
    {
     "name": "stderr",
     "output_type": "stream",
     "text": [
      "c:\\deep\\python37\\lib\\site-packages\\seaborn\\distributions.py:2557: FutureWarning: `distplot` is a deprecated function and will be removed in a future version. Please adapt your code to use either `displot` (a figure-level function with similar flexibility) or `histplot` (an axes-level function for histograms).\n",
      "  warnings.warn(msg, FutureWarning)\n"
     ]
    },
    {
     "data": {
      "text/plain": [
       "<AxesSubplot:xlabel='감마지티피', ylabel='Density'>"
      ]
     },
     "execution_count": 30,
     "metadata": {},
     "output_type": "execute_result"
    },
    {
     "data": {
      "image/png": "[encoded data removed]",
      "text/plain": [
       "<Figure size 432x288 with 1 Axes>"
      ]
     },
     "metadata": {
      "image/png": {
       "height": 263,
       "width": 394
      },
      "needs_background": "light"
     },
     "output_type": "display_data"
    }
   ],
   "source": [
    "sns.distplot(df[\"감마지티피\"])"
   ]
  },
  {
   "cell_type": "code",
   "execution_count": 31,
   "metadata": {},
   "outputs": [
    {
     "name": "stderr",
     "output_type": "stream",
     "text": [
      "c:\\deep\\python37\\lib\\site-packages\\seaborn\\distributions.py:2557: FutureWarning: `distplot` is a deprecated function and will be removed in a future version. Please adapt your code to use either `displot` (a figure-level function with similar flexibility) or `histplot` (an axes-level function for histograms).\n",
      "  warnings.warn(msg, FutureWarning)\n"
     ]
    },
    {
     "data": {
      "text/plain": [
       "<AxesSubplot:xlabel='감마지티피_log', ylabel='Density'>"
      ]
     },
     "execution_count": 31,
     "metadata": {},
     "output_type": "execute_result"
    },
    {
     "data": {
      "image/png": "[encoded data removed]",
      "text/plain": [
       "<Figure size 432x288 with 1 Axes>"
      ]
     },
     "metadata": {
      "image/png": {
       "height": 264,
       "width": 383
      },
      "needs_background": "light"
     },
     "output_type": "display_data"
    }
   ],
   "source": [
    "df[\"감마지티피_log\"] = np.log(df[\"감마지티피\"] + 1)\n",
    "sns.distplot(df[\"감마지티피_log\"])"
   ]
  },
  {
   "cell_type": "markdown",
   "metadata": {},
   "source": [
    "## 학습, 예측 데이터셋 나누기\n",
    "\n",
    "### <font color=\"red\">TODO 4</font> 데이터셋 나누기\n",
    "*  <font color=\"blue\">슬라이싱</font>을 사용해서 학습:예측 데이터를 <font color=\"red\">8:2</font>로 나눕니다.\n",
    "* train 데이터는 8000개 test 데이터는 2000개의 행을 갖도록 나눕니다."
   ]
  },
  {
   "cell_type": "code",
   "execution_count": 32,
   "metadata": {},
   "outputs": [
    {
     "data": {
      "text/plain": [
       "8000"
      ]
     },
     "execution_count": 32,
     "metadata": {},
     "output_type": "execute_result"
    }
   ],
   "source": [
    "# 8:2 의 비율로 구하기 위해 전체 데이터의 행에서 80% 위치에 해당되는 값을 구해서 split_count 라는 변수에 담습니다.\n",
    "split_count = int(df.shape[0] * 0.8)\n",
    "split_count"
   ]
  },
  {
   "cell_type": "code",
   "execution_count": 33,
   "metadata": {},
   "outputs": [],
   "source": [
    "# 파이썬의 슬라이싱 기능을 통해 데이터를 나눕니다.\n",
    "# 위에서 만든 split_count 변수를 사용해서 슬라이싱으로 데이터를 나눠주세요\n",
    "train = df[:split_count]\n",
    "test =  df[split_count:]\n",
    "\n",
    "# train = df[:split_count].copy()\n",
    "# train.shape"
   ]
  },
  {
   "cell_type": "markdown",
   "metadata": {},
   "source": [
    "#### <font color=\"blue\">TODO 4 Self Review</font>"
   ]
  },
  {
   "cell_type": "code",
   "execution_count": 34,
   "metadata": {},
   "outputs": [
    {
     "name": "stdout",
     "output_type": "stream",
     "text": [
      "train, test 데이터셋을 잘 나누어 주셨습니다. 이어서 진행하셔도 좋습니다.\n"
     ]
    }
   ],
   "source": [
    "# 셀을 실행해서 데이터셋이 잘 나뉘었는지 확인합니다.\n",
    "# 아래의 코드를 실행해서 확인을 해주어야 제출파일을 작성할 수 있으니 꼭 확인해 주세요!\n",
    "checker.check_split_dataset(train, test)"
   ]
  },
  {
   "cell_type": "markdown",
   "metadata": {},
   "source": [
    "## 학습, 예측에 사용할 컬럼"
   ]
  },
  {
   "cell_type": "code",
   "execution_count": 35,
   "metadata": {},
   "outputs": [
    {
     "data": {
      "text/plain": [
       "['기준년도',\n",
       " '가입자일련번호',\n",
       " '성별코드',\n",
       " '연령대코드(5세단위)',\n",
       " '시도코드',\n",
       " '신장(5Cm단위)',\n",
       " '체중(5Kg 단위)',\n",
       " '허리둘레',\n",
       " '시력(좌)',\n",
       " '시력(우)',\n",
       " '청력(좌)',\n",
       " '청력(우)',\n",
       " '수축기혈압',\n",
       " '이완기혈압',\n",
       " '식전혈당(공복혈당)',\n",
       " '총콜레스테롤',\n",
       " '트리글리세라이드',\n",
       " 'HDL콜레스테롤',\n",
       " 'LDL콜레스테롤',\n",
       " '혈색소',\n",
       " '요단백',\n",
       " '혈청크레아티닌',\n",
       " '(혈청지오티)AST',\n",
       " '(혈청지오티)ALT',\n",
       " '감마지티피',\n",
       " '흡연상태',\n",
       " '음주여부',\n",
       " '구강검진 수검여부',\n",
       " '치아우식증유무',\n",
       " '결손치유무',\n",
       " '치아마모증유무',\n",
       " '제3대구치(사랑니)이상',\n",
       " '치석',\n",
       " '데이터공개일자',\n",
       " '총콜레스테롤_log',\n",
       " '감마지티피_log']"
      ]
     },
     "execution_count": 35,
     "metadata": {},
     "output_type": "execute_result"
    }
   ],
   "source": [
    "# feature_names 라는 변수에 학습과 예측에 사용할 컬럼명을 가져옵니다.\n",
    "feature_names = df.columns.to_list()\n",
    "feature_names"
   ]
  },
  {
   "cell_type": "code",
   "execution_count": 36,
   "metadata": {},
   "outputs": [],
   "source": [
    "# feature_names 라는 변수에 학습과 예측에 사용할 컬럼명을 따로 가져옵니다.\n",
    "# 모든 컬럼을 다 사용하지 않습니다. 신호와 소음을 가려냅니다.\n",
    "feature_names = [\n",
    " '성별코드',\n",
    " '연령대코드(5세단위)',\n",
    " '시도코드',\n",
    " '신장(5Cm단위)',\n",
    " '체중(5Kg 단위)',\n",
    " '허리둘레',\n",
    " '시력(좌)',\n",
    " '시력(우)',\n",
    " '수축기혈압',\n",
    " '이완기혈압',\n",
    " '식전혈당(공복혈당)',\n",
    " '총콜레스테롤_log',\n",
    " '트리글리세라이드',\n",
    " 'HDL콜레스테롤',\n",
    " 'LDL콜레스테롤',\n",
    " '혈색소',\n",
    " '요단백',\n",
    " '혈청크레아티닌',\n",
    " '(혈청지오티)AST',\n",
    " '(혈청지오티)ALT',\n",
    " '감마지티피_log',\n",
    " '흡연상태'\n",
    "]"
   ]
  },
  {
   "cell_type": "markdown",
   "metadata": {},
   "source": [
    "## 정답값이자 예측해야 될 값"
   ]
  },
  {
   "cell_type": "code",
   "execution_count": 37,
   "metadata": {},
   "outputs": [
    {
     "data": {
      "text/plain": [
       "'음주여부'"
      ]
     },
     "execution_count": 37,
     "metadata": {},
     "output_type": "execute_result"
    }
   ],
   "source": [
    "# label_name 이라는 변수에 예측할 컬럼의 이름을 담습니다.\n",
    "label_name = \"음주여부\"\n",
    "label_name"
   ]
  },
  {
   "cell_type": "markdown",
   "metadata": {},
   "source": [
    "## 학습, 예측 데이터셋 만들기"
   ]
  },
  {
   "cell_type": "code",
   "execution_count": 38,
   "metadata": {},
   "outputs": [
    {
     "name": "stdout",
     "output_type": "stream",
     "text": [
      "(8000, 22)\n"
     ]
    },
    {
     "data": {
      "text/html": [
       "<div>\n",
       "<style scoped>\n",
       "    .dataframe tbody tr th:only-of-type {\n",
       "        vertical-align: middle;\n",
       "    }\n",
       "\n",
       "    .dataframe tbody tr th {\n",
       "        vertical-align: top;\n",
       "    }\n",
       "\n",
       "    .dataframe thead th {\n",
       "        text-align: right;\n",
       "    }\n",
       "</style>\n",
       "<table border=\"1\" class=\"dataframe\">\n",
       "  <thead>\n",
       "    <tr style=\"text-align: right;\">\n",
       "      <th></th>\n",
       "      <th>성별코드</th>\n",
       "      <th>연령대코드(5세단위)</th>\n",
       "      <th>시도코드</th>\n",
       "      <th>신장(5Cm단위)</th>\n",
       "      <th>체중(5Kg 단위)</th>\n",
       "      <th>허리둘레</th>\n",
       "      <th>시력(좌)</th>\n",
       "      <th>시력(우)</th>\n",
       "      <th>수축기혈압</th>\n",
       "      <th>이완기혈압</th>\n",
       "      <th>...</th>\n",
       "      <th>트리글리세라이드</th>\n",
       "      <th>HDL콜레스테롤</th>\n",
       "      <th>LDL콜레스테롤</th>\n",
       "      <th>혈색소</th>\n",
       "      <th>요단백</th>\n",
       "      <th>혈청크레아티닌</th>\n",
       "      <th>(혈청지오티)AST</th>\n",
       "      <th>(혈청지오티)ALT</th>\n",
       "      <th>감마지티피_log</th>\n",
       "      <th>흡연상태</th>\n",
       "    </tr>\n",
       "  </thead>\n",
       "  <tbody>\n",
       "    <tr>\n",
       "      <th>0</th>\n",
       "      <td>1</td>\n",
       "      <td>11</td>\n",
       "      <td>41</td>\n",
       "      <td>160.0</td>\n",
       "      <td>70.0</td>\n",
       "      <td>88.0</td>\n",
       "      <td>0.6</td>\n",
       "      <td>0.3</td>\n",
       "      <td>110.0</td>\n",
       "      <td>62.0</td>\n",
       "      <td>...</td>\n",
       "      <td>102.0</td>\n",
       "      <td>39.0</td>\n",
       "      <td>147.0</td>\n",
       "      <td>12.2</td>\n",
       "      <td>2017.0</td>\n",
       "      <td>5.0</td>\n",
       "      <td>12.0</td>\n",
       "      <td>11.0</td>\n",
       "      <td>2.708050</td>\n",
       "      <td>2.0</td>\n",
       "    </tr>\n",
       "    <tr>\n",
       "      <th>1</th>\n",
       "      <td>1</td>\n",
       "      <td>13</td>\n",
       "      <td>41</td>\n",
       "      <td>165.0</td>\n",
       "      <td>70.0</td>\n",
       "      <td>91.0</td>\n",
       "      <td>0.5</td>\n",
       "      <td>0.6</td>\n",
       "      <td>112.0</td>\n",
       "      <td>67.0</td>\n",
       "      <td>...</td>\n",
       "      <td>156.0</td>\n",
       "      <td>36.0</td>\n",
       "      <td>56.0</td>\n",
       "      <td>14.6</td>\n",
       "      <td>2017.0</td>\n",
       "      <td>1.2</td>\n",
       "      <td>28.0</td>\n",
       "      <td>23.0</td>\n",
       "      <td>3.091042</td>\n",
       "      <td>2.0</td>\n",
       "    </tr>\n",
       "    <tr>\n",
       "      <th>2</th>\n",
       "      <td>2</td>\n",
       "      <td>8</td>\n",
       "      <td>47</td>\n",
       "      <td>160.0</td>\n",
       "      <td>55.0</td>\n",
       "      <td>73.0</td>\n",
       "      <td>0.9</td>\n",
       "      <td>1.0</td>\n",
       "      <td>104.0</td>\n",
       "      <td>60.0</td>\n",
       "      <td>...</td>\n",
       "      <td>99.0</td>\n",
       "      <td>43.0</td>\n",
       "      <td>103.0</td>\n",
       "      <td>9.9</td>\n",
       "      <td>2017.0</td>\n",
       "      <td>0.5</td>\n",
       "      <td>15.0</td>\n",
       "      <td>9.0</td>\n",
       "      <td>2.890372</td>\n",
       "      <td>1.0</td>\n",
       "    </tr>\n",
       "    <tr>\n",
       "      <th>3</th>\n",
       "      <td>1</td>\n",
       "      <td>11</td>\n",
       "      <td>41</td>\n",
       "      <td>170.0</td>\n",
       "      <td>70.0</td>\n",
       "      <td>82.0</td>\n",
       "      <td>0.4</td>\n",
       "      <td>0.5</td>\n",
       "      <td>119.0</td>\n",
       "      <td>76.0</td>\n",
       "      <td>...</td>\n",
       "      <td>158.0</td>\n",
       "      <td>49.0</td>\n",
       "      <td>162.0</td>\n",
       "      <td>14.8</td>\n",
       "      <td>2017.0</td>\n",
       "      <td>1.0</td>\n",
       "      <td>20.0</td>\n",
       "      <td>16.0</td>\n",
       "      <td>2.890372</td>\n",
       "      <td>1.0</td>\n",
       "    </tr>\n",
       "    <tr>\n",
       "      <th>4</th>\n",
       "      <td>1</td>\n",
       "      <td>13</td>\n",
       "      <td>26</td>\n",
       "      <td>155.0</td>\n",
       "      <td>50.0</td>\n",
       "      <td>90.0</td>\n",
       "      <td>1.2</td>\n",
       "      <td>1.2</td>\n",
       "      <td>128.0</td>\n",
       "      <td>84.0</td>\n",
       "      <td>...</td>\n",
       "      <td>243.0</td>\n",
       "      <td>51.0</td>\n",
       "      <td>167.0</td>\n",
       "      <td>15.1</td>\n",
       "      <td>2017.0</td>\n",
       "      <td>0.8</td>\n",
       "      <td>44.0</td>\n",
       "      <td>29.0</td>\n",
       "      <td>3.988984</td>\n",
       "      <td>3.0</td>\n",
       "    </tr>\n",
       "  </tbody>\n",
       "</table>\n",
       "<p>5 rows × 22 columns</p>\n",
       "</div>"
      ],
      "text/plain": [
       "   성별코드  연령대코드(5세단위)  시도코드  신장(5Cm단위)  체중(5Kg 단위)  허리둘레  시력(좌)  시력(우)  수축기혈압  \\\n",
       "0     1           11    41      160.0        70.0  88.0    0.6    0.3  110.0   \n",
       "1     1           13    41      165.0        70.0  91.0    0.5    0.6  112.0   \n",
       "2     2            8    47      160.0        55.0  73.0    0.9    1.0  104.0   \n",
       "3     1           11    41      170.0        70.0  82.0    0.4    0.5  119.0   \n",
       "4     1           13    26      155.0        50.0  90.0    1.2    1.2  128.0   \n",
       "\n",
       "   이완기혈압  ...  트리글리세라이드  HDL콜레스테롤  LDL콜레스테롤   혈색소     요단백  혈청크레아티닌  \\\n",
       "0   62.0  ...     102.0      39.0     147.0  12.2  2017.0      5.0   \n",
       "1   67.0  ...     156.0      36.0      56.0  14.6  2017.0      1.2   \n",
       "2   60.0  ...      99.0      43.0     103.0   9.9  2017.0      0.5   \n",
       "3   76.0  ...     158.0      49.0     162.0  14.8  2017.0      1.0   \n",
       "4   84.0  ...     243.0      51.0     167.0  15.1  2017.0      0.8   \n",
       "\n",
       "   (혈청지오티)AST  (혈청지오티)ALT  감마지티피_log  흡연상태  \n",
       "0        12.0        11.0   2.708050   2.0  \n",
       "1        28.0        23.0   3.091042   2.0  \n",
       "2        15.0         9.0   2.890372   1.0  \n",
       "3        20.0        16.0   2.890372   1.0  \n",
       "4        44.0        29.0   3.988984   3.0  \n",
       "\n",
       "[5 rows x 22 columns]"
      ]
     },
     "execution_count": 38,
     "metadata": {},
     "output_type": "execute_result"
    }
   ],
   "source": [
    "# 학습 세트 만들기 예) 기출문제\n",
    "X_train = train[feature_names]\n",
    "print(X_train.shape)\n",
    "X_train.head()"
   ]
  },
  {
   "cell_type": "code",
   "execution_count": 39,
   "metadata": {},
   "outputs": [
    {
     "name": "stdout",
     "output_type": "stream",
     "text": [
      "(8000,)\n"
     ]
    }
   ],
   "source": [
    "# 정답 값을 만들어 줍니다. 예) 기출문제의 정답\n",
    "y_train = train[label_name]\n",
    "print(y_train.shape)"
   ]
  },
  {
   "cell_type": "code",
   "execution_count": 40,
   "metadata": {},
   "outputs": [],
   "source": [
    "# 예측에 사용할 데이터세트를 만듭니다. 예) 실전 시험 문제\n",
    "X_test = test[feature_names]"
   ]
  },
  {
   "cell_type": "code",
   "execution_count": 41,
   "metadata": {},
   "outputs": [
    {
     "name": "stdout",
     "output_type": "stream",
     "text": [
      "(2000,)\n"
     ]
    }
   ],
   "source": [
    "# 예측의 정답값 예) 실전 시험 문제의 정답\n",
    "y_test = test[label_name]\n",
    "print(y_test.shape)"
   ]
  },
  {
   "cell_type": "markdown",
   "metadata": {},
   "source": [
    "## 머신러닝 알고리즘 사용하기\n",
    "* [랜덤 포레스트 - 위키백과, 우리 모두의 백과사전](https://ko.wikipedia.org/wiki/%EB%9E%9C%EB%8D%A4_%ED%8F%AC%EB%A0%88%EC%8A%A4%ED%8A%B8)\n",
    "\n",
    "### <font color=\"red\">TODO 5</font> 랜덤포레스트 분류기를 만들어 주세요.\n",
    "* model 이라는 변수에 정의해서 사용합니다."
   ]
  },
  {
   "cell_type": "code",
   "execution_count": 45,
   "metadata": {
    "scrolled": true
   },
   "outputs": [
    {
     "data": {
      "text/plain": [
       "RandomForestClassifier(min_samples_split=10, n_estimators=1000, n_jobs=-1,\n",
       "                       random_state=42)"
      ]
     },
     "execution_count": 45,
     "metadata": {},
     "output_type": "execute_result"
    }
   ],
   "source": [
    "# 밑줄을 채워 코드를 완성해 주세요.\n",
    "from sklearn.ensemble import RandomForestClassifier\n",
    "\n",
    "model =RandomForestClassifier(n_estimators=1000,\n",
    "                               min_samples_split=10, \n",
    "                               n_jobs=-1, \n",
    "                               random_state=42)\n",
    "model"
   ]
  },
  {
   "cell_type": "markdown",
   "metadata": {},
   "source": [
    "#### <font color=\"blue\">TODO 5 Self Review</font>"
   ]
  },
  {
   "cell_type": "code",
   "execution_count": 46,
   "metadata": {},
   "outputs": [
    {
     "name": "stdout",
     "output_type": "stream",
     "text": [
      "랜덤포레스트 분류기를 잘 설정해 주셨습니다. 이어서 진행하셔도 좋습니다.\n"
     ]
    }
   ],
   "source": [
    "# 분류기가 잘 만들어졌는지 아래의 코드를 실행해서 확인해 주세요.\n",
    "# 아래의 코드를 실행해서 확인을 해주어야 제출파일을 작성할 수 있으니 꼭 확인해 주세요!\n",
    "checker.valid_model(model)"
   ]
  },
  {
   "cell_type": "markdown",
   "metadata": {},
   "source": [
    "## 학습(훈련)\n",
    "* 시험을 볼 때 기출문제(X_train)와 정답(y_train)을 보고 공부하는 과정과 유사합니다."
   ]
  },
  {
   "cell_type": "code",
   "execution_count": 47,
   "metadata": {
    "scrolled": false
   },
   "outputs": [
    {
     "data": {
      "text/plain": [
       "RandomForestClassifier(min_samples_split=10, n_estimators=1000, n_jobs=-1,\n",
       "                       random_state=42)"
      ]
     },
     "execution_count": 47,
     "metadata": {},
     "output_type": "execute_result"
    }
   ],
   "source": [
    "model.fit(X_train, y_train)"
   ]
  },
  {
   "cell_type": "markdown",
   "metadata": {},
   "source": [
    "## 예측\n",
    "* 실전 시험문제(X_test)라고 보면 됩니다. 우리가 정답을 직접 예측합니다."
   ]
  },
  {
   "cell_type": "code",
   "execution_count": 48,
   "metadata": {},
   "outputs": [
    {
     "data": {
      "text/plain": [
       "array([1., 1., 1., 0., 0.])"
      ]
     },
     "execution_count": 48,
     "metadata": {},
     "output_type": "execute_result"
    }
   ],
   "source": [
    "y_predict = model.predict(X_test)\n",
    "y_predict[:5]"
   ]
  },
  {
   "cell_type": "markdown",
   "metadata": {},
   "source": [
    "## 트리 알고리즘 분석하기\n",
    "* 피처의 중요도를 시각화 합니다."
   ]
  },
  {
   "cell_type": "code",
   "execution_count": 49,
   "metadata": {},
   "outputs": [
    {
     "data": {
      "text/plain": [
       "array([0.06034927, 0.07863848, 0.02765302, 0.0636802 , 0.03544649,\n",
       "       0.04366873, 0.02605171, 0.02674956, 0.03934362, 0.03826127,\n",
       "       0.04007665, 0.04561234, 0.04781826, 0.05725157, 0.0458534 ,\n",
       "       0.06310749, 0.        , 0.02539226, 0.03770793, 0.04296353,\n",
       "       0.08925791, 0.06511631])"
      ]
     },
     "execution_count": 49,
     "metadata": {},
     "output_type": "execute_result"
    }
   ],
   "source": [
    "# 피처의 중요도를 추출하기\n",
    "feature_importance = model.feature_importances_\n",
    "feature_importance"
   ]
  },
  {
   "cell_type": "code",
   "execution_count": 50,
   "metadata": {},
   "outputs": [
    {
     "data": {
      "text/plain": [
       "<AxesSubplot:>"
      ]
     },
     "execution_count": 50,
     "metadata": {},
     "output_type": "execute_result"
    },
    {
     "data": {
      "image/png": "[encoded data removed]",
      "text/plain": [
       "<Figure size 576x720 with 1 Axes>"
      ]
     },
     "metadata": {
      "image/png": {
       "height": 575,
       "width": 559
      },
      "needs_background": "light"
     },
     "output_type": "display_data"
    }
   ],
   "source": [
    "# 피처의 중요도 시각화 하기\n",
    "pd.Series(feature_importance, index=feature_names).plot.barh(figsize=(8, 10))"
   ]
  },
  {
   "cell_type": "markdown",
   "metadata": {},
   "source": [
    "## 정확도(Accuracy) 측정하기"
   ]
  },
  {
   "cell_type": "code",
   "execution_count": 51,
   "metadata": {},
   "outputs": [
    {
     "data": {
      "text/plain": [
       "537.0"
      ]
     },
     "execution_count": 51,
     "metadata": {},
     "output_type": "execute_result"
    }
   ],
   "source": [
    "# 실제값 - 예측값을 빼주면 같은 값은 0으로 나오게 됩니다. \n",
    "# 여기에서 절대값을 씌운 값이 1인 값이 다르게 예측한 값이 됩니다.\n",
    "# diff_count 에 값을 넣어줍니다.\n",
    "diff_count = abs(test[label_name] - y_predict).sum()\n",
    "diff_count"
   ]
  },
  {
   "cell_type": "code",
   "execution_count": 52,
   "metadata": {},
   "outputs": [
    {
     "data": {
      "text/plain": [
       "73.15"
      ]
     },
     "execution_count": 52,
     "metadata": {},
     "output_type": "execute_result"
    }
   ],
   "source": [
    "# 예측의 정확도를 구합니다. 100점 만점 중에 몇 점을 맞았는지 구한다고 보면 됩니다.\n",
    "((len(y_predict) - diff_count) / len(y_predict)) * 100"
   ]
  },
  {
   "cell_type": "markdown",
   "metadata": {},
   "source": [
    "### <font color=\"red\">TODO 6</font> 사이킷런의 Accuracy 로 정확도를 측정해 주세요.\n",
    "* 사이킷런의 accuracy는 metrics 의 accuracy_score 를 사용해서 구할 수 있습니다."
   ]
  },
  {
   "cell_type": "code",
   "execution_count": 53,
   "metadata": {},
   "outputs": [
    {
     "data": {
      "text/plain": [
       "73.15"
      ]
     },
     "execution_count": 53,
     "metadata": {},
     "output_type": "execute_result"
    }
   ],
   "source": [
    "# 위에서 처럼 직접 구할 수도 있지만 미리 구현된 알고리즘을 가져와 사용합니다.\n",
    "# 밑줄을 완성해서 accuracy를 측정해 주세요.\n",
    "from sklearn.metrics import accuracy_score\n",
    "\n",
    "score = accuracy_score(y_test, y_predict) * 100\n",
    "score"
   ]
  },
  {
   "cell_type": "markdown",
   "metadata": {},
   "source": [
    "#### <font color=\"blue\">TODO 6 Self Review</font>"
   ]
  },
  {
   "cell_type": "code",
   "execution_count": 54,
   "metadata": {},
   "outputs": [
    {
     "name": "stdout",
     "output_type": "stream",
     "text": [
      "모델 성능이 기준치를 넘었습니다! 이어서 진행하셔도 좋습니다.\n"
     ]
    }
   ],
   "source": [
    "# 스코어를 체크해 주세요.\n",
    "# 아래의 코드를 실행해서 확인을 해주어야 제출파일을 작성할 수 있으니 꼭 확인해 주세요!\n",
    "checker.check_score(score)"
   ]
  },
  {
   "cell_type": "markdown",
   "metadata": {},
   "source": [
    "## 프로젝트 제출 파일 만들기\n",
    "* 아래의 코드를 실행하기 전에 <font color=\"red\">실습한 주피터 노트북을 저장 버튼을 누르거나 다음의 단축키로 (ctrl/cmd + s) 저장</font>해 주세요. \n",
    "* 아래의 코드를 실행해 주세요. \n",
    "* 프로젝트 제출 파일이 생성됩니다.\n",
    "* `제출파일 자동생성`은 주피터 익스텐션이 설치되어 있어야 실행이 가능합니다.\n",
    "* 주피터 익스텐션은 다음의 방법으로 설치 가능합니다.\n",
    "* 주피터 노트북의 `홈화면에서 > 오른쪽 상단 > New > Ternimal`로 설치해 주세요.\n",
    "    * pip install jupyter_contrib_nbextensions\n",
    "    * conda install jupyter_contrib_nbextensions\n",
    "* submit 폴더에 다음 두 개의 파일이 생성되어 있어야 제출 파일이 제대로 생성된 것입니다.\n",
    "    * health-regression-project.html\n",
    "    * regression_submission.csv\n",
    "* html 파일이 submit 폴더에 생성되지 않았다면 주피터 노트북의 `메뉴 > File > Download as > HTML(.html)` 을 통해 html 파일을 생성해 주시고 shubmit 폴더에 저장 후 압축해서 제출해 주세요."
   ]
  },
  {
   "cell_type": "code",
   "execution_count": 55,
   "metadata": {
    "scrolled": true
   },
   "outputs": [
    {
     "name": "stdout",
     "output_type": "stream",
     "text": [
      "[ Self-Check ] Submit 파일 생성완료! 위치: 'submit'\n",
      "[ Self-Check ] 시스템: Windows\n",
      "[ Self-Check ] submit.zip 생성 완료!\n",
      "[ Self-Check ] 모든 평가기준을 통과했습니다. 압축파일을 제출해주세요!\n"
     ]
    }
   ],
   "source": [
    "# 아래의 코드를 실행해서 프로젝트가 잘 작성되었는지 확인해 주세요.\n",
    "# TODO 항목이 잘 구현되었다면 아래의 코드는 submit.zip 파일로 제출파일을 생성합니다.\n",
    "# TODO 항목을 만족하지 않는다면 구현해야할 목록이 출력됩니다.\n",
    "# 실행시간이 조금 오래 걸릴 수도 있습니다. 오류가 나지 않는다면 최대 30초 정도 기다려주세요!\n",
    "checker.check_submit()"
   ]
  },
  {
   "cell_type": "code",
   "execution_count": null,
   "metadata": {},
   "outputs": [],
   "source": []
  }
 ],
 "metadata": {
  "kernelspec": {
   "display_name": "Python 3",
   "language": "python",
   "name": "python3"
  },
  "language_info": {
   "codemirror_mode": {
    "name": "ipython",
    "version": 3
   },
   "file_extension": ".py",
   "mimetype": "text/x-python",
   "name": "python",
   "nbconvert_exporter": "python",
   "pygments_lexer": "ipython3",
   "version": "3.7.7"
  },
  "toc": {
   "base_numbering": 1,
   "nav_menu": {},
   "number_sections": true,
   "sideBar": true,
   "skip_h1_title": false,
   "title_cell": "Table of Contents",
   "title_sidebar": "Contents",
   "toc_cell": false,
   "toc_position": {
    "height": "calc(100% - 180px)",
    "left": "10px",
    "top": "150px",
    "width": "256px"
   },
   "toc_section_display": true,
   "toc_window_display": true
  },
  "varInspector": {
   "cols": {
    "lenName": 16,
    "lenType": 16,
    "lenVar": 40
   },
   "kernels_config": {
    "python": {
     "delete_cmd_postfix": "",
     "delete_cmd_prefix": "del ",
     "library": "var_list.py",
     "varRefreshCmd": "print(var_dic_list())"
    },
    "r": {
     "delete_cmd_postfix": ") ",
     "delete_cmd_prefix": "rm(",
     "library": "var_list.r",
     "varRefreshCmd": "cat(var_dic_list()) "
    }
   },
   "types_to_exclude": [
    "module",
    "function",
    "builtin_function_or_method",
    "instance",
    "_Feature"
   ],
   "window_display": false
  }
 },
 "nbformat": 4,
 "nbformat_minor": 2
}
